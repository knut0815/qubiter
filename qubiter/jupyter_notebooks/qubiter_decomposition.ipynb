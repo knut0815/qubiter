{
 "cells": [
  {
   "cell_type": "markdown",
   "metadata": {},
   "source": [
    "# Quantum CSD Compiling Intro\n",
    "\n",
    "The purpose of this notebook is to give a quick introduction to Qubiter's \n",
    "CSD quantum compiler capabilities. \n",
    "\n",
    "By a quantum complier, we mean\n",
    "a computer program that takes as input an arbitrary unitary matrix $U$ of dimension $N=2^n$\n",
    "and returns a SEO (sequence of elementary operations, in this case CNOTs and single qubit\n",
    "rotations) that equals $U$. There are various kinds of quantum \n",
    "compilers. Suppose $U$ is of the form $U=e^{-itH}$, where $t$ is time and $H$ is\n",
    "the Hamiltonian operator. If $H$ has a form which is known a priori, a situation\n",
    "that is common in Physics and Chemistry, then a popular way of expanding $U$\n",
    "is by using the Trotter-Suzuki approximation. If the form of $H$ is not\n",
    "known a priori as is common in Artificial Intelligence, then\n",
    "we recommend using the CS (Cosine-Sine) decomposition of Linear Algebra.\n",
    "Both methods are already implemented in Qubiter, but this notebook is about\n",
    "the CSD.\n",
    "\n",
    "Doing CSD quantum compiling with Qubiter requires using the classes in the quantum_CSD_compiler\n",
    "folder, which will only work properly if you install, besides all the Qubiter\n",
    "Python files and a Python distro that includes numpy and scipy (for example, Anaconda),\n",
    "some binary libraries prepared by Artiste-q.net which include\n",
    "a Python wrapper for a LAPACK subroutine\n",
    "called cuncsd.f that performs CSDs. How to install those binary libraries\n",
    "is explained elsewhere in this site. Henceforth, we will assume \n",
    "all the necessary files have been installed on your computer if you want to redo the calculations.\n",
    "\n",
    "The quantum_CSD_compiler folder includes a pdf called csd-intro.pdf that gives\n",
    "an introduction to the CSD. \n",
    "\n",
    "Some external references:\n",
    "\n",
    "\n",
    "1. R.R. Tucci, A Rudimentary Quantum Compiler(2cnd Ed.)\n",
    "    https://arxiv.org/abs/quant-ph/9902062\n",
    "\n",
    "2. Qubiter 1.11, a C++ program whose first version was released together\n",
    "    with Ref.1 above. Qubiter 1.11 is included in the\n",
    "    quantum_CSD_compiler/LEGACY folder of this newer, pythonic version of Qubiter\n",
    "    \n",
    "3. R.R. Tucci, Quantum Fast Fourier Transform Viewed as a Special Case of Recursive Application of Cosine-Sine Decomposition, https://arxiv.org/abs/quant-ph/0411097\n",
    "\n"
   ]
  },
  {
   "cell_type": "markdown",
   "metadata": {},
   "source": [
    "Qubiter applies CSD recursively\n",
    "to build a tree of node matrices. The product of those node matrices,\n",
    "if read in the correct order, is equal to the input matrix $U$.\n",
    "\n",
    "As an example, let us use for $U$ a 3 qubit quantum Fourier matrix.\n",
    "We can create an object of class Tree with $U$ \n",
    "as input as follows"
   ]
  },
  {
   "cell_type": "code",
   "execution_count": 1,
   "metadata": {},
   "outputs": [
    {
     "name": "stdout",
     "output_type": "stream",
     "text": [
      "/Users/yaroslav/Dropbox/Turation/fork_qubiter/qubiter/qubiter/jupyter_notebooks\n",
      "/Users/yaroslav/Dropbox/Turation/fork_qubiter/qubiter\n"
     ]
    }
   ],
   "source": [
    "import os\n",
    "import sys\n",
    "print(os.getcwd())\n",
    "os.chdir('../../')\n",
    "print(os.getcwd())\n",
    "sys.path.insert(0,os.getcwd())\n",
    "%load_ext autoreload\n",
    "%autoreload 2"
   ]
  },
  {
   "cell_type": "code",
   "execution_count": 2,
   "metadata": {},
   "outputs": [
    {
     "name": "stdout",
     "output_type": "stream",
     "text": [
      "loaded OneBitGates, WITHOUT autograd.numpy\n"
     ]
    }
   ],
   "source": [
    "import numpy as np\n",
    "import math\n",
    "from scipy.stats import unitary_group\n",
    "\n",
    "# Qubiter libs\n",
    "from qubiter.FouSEO_writer import *\n",
    "from qubiter.CGateSEO_writer import *\n",
    "from qubiter.CGateExpander import *\n",
    "from qubiter.quantum_CSD_compiler.MultiplexorExpander import *\n",
    "from qubiter.quantum_CSD_compiler.Tree import *\n",
    "from qubiter.quantum_CSD_compiler.DiagUnitarySEO_writer import *\n",
    "from qubiter.quantum_CSD_compiler.MultiplexorSEO_writer import *\n",
    "from qubiter.quantum_CSD_compiler.DiagUnitaryExpander import *\n",
    "from qubiter.device_specific.Qubiter_to_AnyQasm import *\n",
    "import pandas as pd"
   ]
  },
  {
   "cell_type": "code",
   "execution_count": 3,
   "metadata": {},
   "outputs": [
    {
     "name": "stderr",
     "output_type": "stream",
     "text": [
      "/usr/local/lib/python3.7/site-packages/pycsd.py:114: ComplexWarning: Casting complex values to real discards the imaginary part\n",
      "  signs=signs)\n"
     ]
    }
   ],
   "source": [
    "num_bits = 2\n",
    "init_unitary_mat = unitary_group.rvs(2**num_bits)\n",
    "emb = CktEmbedder(num_bits, num_bits)\n",
    "file_prefix = \"csd_test\"\n",
    "t = Tree(True, file_prefix, emb, init_unitary_mat, verbose=False)\n",
    "t.close_files()"
   ]
  },
  {
   "cell_type": "markdown",
   "metadata": {},
   "source": [
    "The above code automatically creates an expansion of $U$ \n",
    "into DIAG and MP_Y lines. Next we print the Picture file that was created."
   ]
  },
  {
   "cell_type": "code",
   "execution_count": 4,
   "metadata": {},
   "outputs": [],
   "source": [
    "file = './qubiter/io_folder/'+file_prefix + \"_2_ZLpic.txt\"\n",
    "df = pd.read_csv(file, delim_whitespace=True, header=None)"
   ]
  },
  {
   "cell_type": "code",
   "execution_count": 5,
   "metadata": {},
   "outputs": [],
   "source": [
    "style = 'exact'\n",
    "xer = MultiplexorExpander(file_prefix, num_bits, style, verbose=False)"
   ]
  },
  {
   "cell_type": "code",
   "execution_count": 6,
   "metadata": {},
   "outputs": [],
   "source": [
    "xer = DiagUnitaryExpander(file_prefix+'_X1', num_bits, style)"
   ]
  },
  {
   "cell_type": "code",
   "execution_count": 7,
   "metadata": {},
   "outputs": [],
   "source": [
    "xer = MultiplexorExpander(file_prefix+'_X2', num_bits, style, verbose=False)"
   ]
  },
  {
   "cell_type": "code",
   "execution_count": 8,
   "metadata": {},
   "outputs": [],
   "source": [
    "exp = CGateExpander(file_prefix+'_X3', num_bits)"
   ]
  },
  {
   "cell_type": "code",
   "execution_count": 9,
   "metadata": {},
   "outputs": [
    {
     "name": "stdout",
     "output_type": "stream",
     "text": [
      "|   Ph  \n",
      "\n",
      "|   Rz  \n",
      "\n",
      "@---X   \n",
      "\n",
      "|   Rz  \n",
      "\n",
      "@---X   \n",
      "\n",
      "Rz  |   \n",
      "\n",
      "|   Ry  \n",
      "\n",
      "@---X   \n",
      "\n",
      "|   Ry  \n",
      "\n",
      "@---X   \n",
      "\n",
      "|   Ph  \n",
      "\n",
      "|   Rz  \n",
      "\n",
      "@---X   \n",
      "\n",
      "|   Rz  \n",
      "\n",
      "@---X   \n",
      "\n",
      "Rz  |   \n",
      "\n",
      "Ry  |   \n",
      "\n",
      "X---@   \n",
      "\n",
      "Ry  |   \n",
      "\n",
      "X---@   \n",
      "\n",
      "|   Ph  \n",
      "\n",
      "|   Rz  \n",
      "\n",
      "@---X   \n",
      "\n",
      "|   Rz  \n",
      "\n",
      "@---X   \n",
      "\n",
      "Rz  |   \n",
      "\n",
      "|   Ry  \n",
      "\n",
      "@---X   \n",
      "\n",
      "|   Ry  \n",
      "\n",
      "@---X   \n",
      "\n",
      "|   Ph  \n",
      "\n",
      "|   Rz  \n",
      "\n",
      "@---X   \n",
      "\n",
      "|   Rz  \n",
      "\n",
      "@---X   \n",
      "\n",
      "Rz  |   \n",
      "\n"
     ]
    }
   ],
   "source": [
    "file = './qubiter/io_folder/'+file_prefix + '_X4_2_ZLpic.txt'\n",
    "log = open(file)\n",
    "for line in log:\n",
    "    print(line)"
   ]
  },
  {
   "cell_type": "markdown",
   "metadata": {},
   "source": [
    "Let us also print the corresponding English file that was created."
   ]
  },
  {
   "cell_type": "code",
   "execution_count": 10,
   "metadata": {},
   "outputs": [
    {
     "name": "stdout",
     "output_type": "stream",
     "text": [
      "PHAS\t33.44807066500774\tAT\t0\n",
      "\n",
      "ROTZ\t-33.44807066500773\tAT\t0\n",
      "\n",
      "SIGX\tAT\t0\tIF\t1T\n",
      "\n",
      "ROTZ\t-10.50259888362128\tAT\t0\n",
      "\n",
      "SIGX\tAT\t0\tIF\t1T\n",
      "\n",
      "ROTZ\t10.50259888362128\tAT\t1\n",
      "\n",
      "ROTY\t70.34270786370864\tAT\t0\n",
      "\n",
      "SIGX\tAT\t0\tIF\t1T\n",
      "\n",
      "ROTY\t-16.257604538475267\tAT\t0\n",
      "\n",
      "SIGX\tAT\t0\tIF\t1T\n",
      "\n",
      "PHAS\t63.220106842320554\tAT\t0\n",
      "\n",
      "ROTZ\t-13.883884489831457\tAT\t0\n",
      "\n",
      "SIGX\tAT\t0\tIF\t1T\n",
      "\n",
      "ROTZ\t103.88388448983143\tAT\t0\n",
      "\n",
      "SIGX\tAT\t0\tIF\t1T\n",
      "\n",
      "ROTZ\t26.77989315767945\tAT\t1\n",
      "\n",
      "ROTY\t43.685683462346944\tAT\t1\n",
      "\n",
      "SIGX\tAT\t1\tIF\t0T\n",
      "\n",
      "ROTY\t-21.555038501378725\tAT\t1\n",
      "\n",
      "SIGX\tAT\t1\tIF\t0T\n",
      "\n",
      "PHAS\t-26.601308744038434\tAT\t0\n",
      "\n",
      "ROTZ\t26.601308744038423\tAT\t0\n",
      "\n",
      "SIGX\tAT\t0\tIF\t1T\n",
      "\n",
      "ROTZ\t-8.68463433424204\tAT\t0\n",
      "\n",
      "SIGX\tAT\t0\tIF\t1T\n",
      "\n",
      "ROTZ\t8.68463433424204\tAT\t1\n",
      "\n",
      "ROTY\t47.080378508644664\tAT\t0\n",
      "\n",
      "SIGX\tAT\t0\tIF\t1T\n",
      "\n",
      "ROTY\t-32.30177466153578\tAT\t0\n",
      "\n",
      "SIGX\tAT\t0\tIF\t1T\n",
      "\n",
      "PHAS\t-160.06686876328988\tAT\t0\n",
      "\n",
      "ROTZ\t5.749690664906348\tAT\t0\n",
      "\n",
      "SIGX\tAT\t0\tIF\t1T\n",
      "\n",
      "ROTZ\t1.3592824411503024\tAT\t0\n",
      "\n",
      "SIGX\tAT\t0\tIF\t1T\n",
      "\n",
      "ROTZ\t-7.794319034499375\tAT\t1\n",
      "\n"
     ]
    }
   ],
   "source": [
    "file = './qubiter/io_folder/'+file_prefix + '_X4_2_eng.txt'\n",
    "log = open(file)\n",
    "for line in log:\n",
    "    print(line)"
   ]
  },
  {
   "cell_type": "code",
   "execution_count": 16,
   "metadata": {},
   "outputs": [
    {
     "data": {
      "text/plain": [
       "<qubiter.device_specific.Qubiter_to_IBMqasm.Qubiter_to_IBMqasm at 0x13ac53550>"
      ]
     },
     "execution_count": 16,
     "metadata": {},
     "output_type": "execute_result"
    }
   ],
   "source": [
    "import qubiter.device_specific.chip_couplings_ibm as ibm\n",
    "from qubiter.device_specific.Qubiter_to_IBMqasm import Qubiter_to_IBMqasm\n",
    "\n",
    "aqasm_name = 'IBMqasm'\n",
    "c_to_tars = None # ibm.ibmq5YorktownTenerife_c_to_tars\n",
    "Qubiter_to_IBMqasm(file_prefix + '_X4', num_bits, aqasm_name=aqasm_name,\n",
    "                   c_to_tars=c_to_tars, write_qubiter_files=True)"
   ]
  },
  {
   "cell_type": "code",
   "execution_count": 17,
   "metadata": {},
   "outputs": [],
   "source": [
    "c_to_tars"
   ]
  },
  {
   "cell_type": "code",
   "execution_count": null,
   "metadata": {},
   "outputs": [],
   "source": []
  }
 ],
 "metadata": {
  "anaconda-cloud": {},
  "celltoolbar": "Raw Cell Format",
  "kernelspec": {
   "display_name": "Python 3",
   "language": "python",
   "name": "python3"
  },
  "language_info": {
   "codemirror_mode": {
    "name": "ipython",
    "version": 3
   },
   "file_extension": ".py",
   "mimetype": "text/x-python",
   "name": "python",
   "nbconvert_exporter": "python",
   "pygments_lexer": "ipython3",
   "version": "3.7.4"
  },
  "nbpresent": {
   "slides": {},
   "themes": {
    "default": "a50a26ea-9250-4d78-a796-a4577cc9eaa1",
    "theme": {
     "a50a26ea-9250-4d78-a796-a4577cc9eaa1": {
      "id": "a50a26ea-9250-4d78-a796-a4577cc9eaa1",
      "palette": {
       "19cc588f-0593-49c9-9f4b-e4d7cc113b1c": {
        "id": "19cc588f-0593-49c9-9f4b-e4d7cc113b1c",
        "rgb": [
         252,
         252,
         252
        ]
       },
       "31af15d2-7e15-44c5-ab5e-e04b16a89eff": {
        "id": "31af15d2-7e15-44c5-ab5e-e04b16a89eff",
        "rgb": [
         68,
         68,
         68
        ]
       },
       "50f92c45-a630-455b-aec3-788680ec7410": {
        "id": "50f92c45-a630-455b-aec3-788680ec7410",
        "rgb": [
         155,
         177,
         192
        ]
       },
       "c5cc3653-2ee1-402a-aba2-7caae1da4f6c": {
        "id": "c5cc3653-2ee1-402a-aba2-7caae1da4f6c",
        "rgb": [
         43,
         126,
         184
        ]
       },
       "efa7f048-9acb-414c-8b04-a26811511a21": {
        "id": "efa7f048-9acb-414c-8b04-a26811511a21",
        "rgb": [
         25.118061674008803,
         73.60176211453744,
         107.4819383259912
        ]
       }
      },
      "rules": {
       "blockquote": {
        "color": "50f92c45-a630-455b-aec3-788680ec7410"
       },
       "code": {
        "font-family": "Anonymous Pro"
       },
       "h1": {
        "color": "c5cc3653-2ee1-402a-aba2-7caae1da4f6c",
        "font-family": "Lato",
        "font-size": 8
       },
       "h2": {
        "color": "c5cc3653-2ee1-402a-aba2-7caae1da4f6c",
        "font-family": "Lato",
        "font-size": 6
       },
       "h3": {
        "color": "50f92c45-a630-455b-aec3-788680ec7410",
        "font-family": "Lato",
        "font-size": 5.5
       },
       "h4": {
        "color": "c5cc3653-2ee1-402a-aba2-7caae1da4f6c",
        "font-family": "Lato",
        "font-size": 5
       },
       "h5": {
        "font-family": "Lato"
       },
       "h6": {
        "font-family": "Lato"
       },
       "h7": {
        "font-family": "Lato"
       },
       "pre": {
        "font-family": "Anonymous Pro",
        "font-size": 4
       }
      },
      "text-base": {
       "font-family": "Merriweather",
       "font-size": 4
      }
     }
    }
   }
  },
  "toc": {
   "colors": {
    "hover_highlight": "#DAA520",
    "running_highlight": "#FF0000",
    "selected_highlight": "#FFD700"
   },
   "moveMenuLeft": true,
   "nav_menu": {
    "height": "30px",
    "width": "252px"
   },
   "navigate_menu": true,
   "number_sections": true,
   "sideBar": true,
   "threshold": 4,
   "toc_cell": false,
   "toc_section_display": "block",
   "toc_window_display": false,
   "widenNotebook": false
  }
 },
 "nbformat": 4,
 "nbformat_minor": 1
}
