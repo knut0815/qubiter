{
 "cells": [
  {
   "cell_type": "markdown",
   "metadata": {},
   "source": [
    "# Quantum CSD Compiling Intro\n",
    "\n",
    "The purpose of this notebook is to give a quick introduction to Qubiter's \n",
    "CSD quantum compiler capabilities. \n",
    "\n",
    "By a quantum complier, we mean\n",
    "a computer program that takes as input an arbitrary unitary matrix $U$ of dimension $N=2^n$\n",
    "and returns a SEO (sequence of elementary operations, in this case CNOTs and single qubit\n",
    "rotations) that equals $U$. There are various kinds of quantum \n",
    "compilers. Suppose $U$ is of the form $U=e^{-itH}$, where $t$ is time and $H$ is\n",
    "the Hamiltonian operator. If $H$ has a form which is known a priori, a situation\n",
    "that is common in Physics and Chemistry, then a popular way of expanding $U$\n",
    "is by using the Trotter-Suzuki approximation. If the form of $H$ is not\n",
    "known a priori as is common in Artificial Intelligence, then\n",
    "we recommend using the CS (Cosine-Sine) decomposition of Linear Algebra.\n",
    "Both methods are already implemented in Qubiter, but this notebook is about\n",
    "the CSD.\n",
    "\n",
    "Doing CSD quantum compiling with Qubiter requires using the classes in the quantum_CSD_compiler\n",
    "folder, which will only work properly if you install, besides all the Qubiter\n",
    "Python files and a Python distro that includes numpy and scipy (for example, Anaconda),\n",
    "some binary libraries prepared by Artiste-q.net which include\n",
    "a Python wrapper for a LAPACK subroutine\n",
    "called cuncsd.f that performs CSDs. How to install those binary libraries\n",
    "is explained elsewhere in this site. Henceforth, we will assume \n",
    "all the necessary files have been installed on your computer if you want to redo the calculations.\n",
    "\n",
    "The quantum_CSD_compiler folder includes a pdf called csd-intro.pdf that gives\n",
    "an introduction to the CSD. \n",
    "\n",
    "Some external references:\n",
    "\n",
    "\n",
    "1. R.R. Tucci, A Rudimentary Quantum Compiler(2cnd Ed.)\n",
    "    https://arxiv.org/abs/quant-ph/9902062\n",
    "\n",
    "2. Qubiter 1.11, a C++ program whose first version was released together\n",
    "    with Ref.1 above. Qubiter 1.11 is included in the\n",
    "    quantum_CSD_compiler/LEGACY folder of this newer, pythonic version of Qubiter\n",
    "    \n",
    "3. R.R. Tucci, Quantum Fast Fourier Transform Viewed as a Special Case of Recursive Application of Cosine-Sine Decomposition, https://arxiv.org/abs/quant-ph/0411097\n",
    "\n"
   ]
  },
  {
   "cell_type": "markdown",
   "metadata": {},
   "source": [
    "Qubiter applies CSD recursively\n",
    "to build a tree of node matrices. The product of those node matrices,\n",
    "if read in the correct order, is equal to the input matrix $U$.\n",
    "\n",
    "As an example, let us use for $U$ a 3 qubit quantum Fourier matrix.\n",
    "We can create an object of class Tree with $U$ \n",
    "as input as follows"
   ]
  },
  {
   "cell_type": "code",
   "execution_count": 1,
   "metadata": {},
   "outputs": [
    {
     "name": "stdout",
     "output_type": "stream",
     "text": [
      "/Users/yaroslav/Dropbox/Turation/qubiter/qubiter/jupyter_notebooks\n",
      "/Users/yaroslav/Dropbox/Turation/qubiter\n"
     ]
    }
   ],
   "source": [
    "import os\n",
    "import sys\n",
    "print(os.getcwd())\n",
    "os.chdir('../../')\n",
    "print(os.getcwd())\n",
    "sys.path.insert(0,os.getcwd())\n",
    "%load_ext autoreload\n",
    "%autoreload 2"
   ]
  },
  {
   "cell_type": "code",
   "execution_count": 2,
   "metadata": {},
   "outputs": [
    {
     "name": "stdout",
     "output_type": "stream",
     "text": [
      "loaded OneBitGates, WITHOUT autograd.numpy\n"
     ]
    }
   ],
   "source": [
    "import numpy as np\n",
    "# import cunsd\n",
    "# import cuncsd_sq as csd\n",
    "import math\n",
    "from qubiter.FouSEO_writer import *\n",
    "from qubiter.quantum_CSD_compiler.Tree import *\n",
    "from qubiter.quantum_CSD_compiler.DiagUnitarySEO_writer import *\n",
    "from qubiter.quantum_CSD_compiler.MultiplexorSEO_writer import *\n",
    "import pandas as pd"
   ]
  },
  {
   "cell_type": "code",
   "execution_count": 17,
   "metadata": {},
   "outputs": [],
   "source": [
    "num_bits = 3\n",
    "init_unitary_mat = FouSEO_writer.fourier_trans_mat(1 << num_bits)\n",
    "emb = CktEmbedder(num_bits, num_bits)\n",
    "file_prefix = \"csd_test\"\n",
    "t = Tree(True, file_prefix, emb, init_unitary_mat, verbose=False)\n",
    "t.close_files()"
   ]
  },
  {
   "cell_type": "markdown",
   "metadata": {},
   "source": [
    "The above code automatically creates an expansion of $U$ \n",
    "into DIAG and MP_Y lines. Next we print the Picture file that was created."
   ]
  },
  {
   "cell_type": "code",
   "execution_count": 18,
   "metadata": {},
   "outputs": [
    {
     "data": {
      "text/html": [
       "<div>\n",
       "<style scoped>\n",
       "    .dataframe tbody tr th:only-of-type {\n",
       "        vertical-align: middle;\n",
       "    }\n",
       "\n",
       "    .dataframe tbody tr th {\n",
       "        vertical-align: top;\n",
       "    }\n",
       "\n",
       "    .dataframe thead th {\n",
       "        text-align: right;\n",
       "    }\n",
       "</style>\n",
       "<table border=\"1\" class=\"dataframe\">\n",
       "  <thead>\n",
       "    <tr style=\"text-align: right;\">\n",
       "      <th></th>\n",
       "      <th>0</th>\n",
       "    </tr>\n",
       "  </thead>\n",
       "  <tbody>\n",
       "    <tr>\n",
       "      <th>0</th>\n",
       "      <td>%---%---%</td>\n",
       "    </tr>\n",
       "    <tr>\n",
       "      <th>1</th>\n",
       "      <td>%---%---Ry</td>\n",
       "    </tr>\n",
       "    <tr>\n",
       "      <th>2</th>\n",
       "      <td>%---%---%</td>\n",
       "    </tr>\n",
       "    <tr>\n",
       "      <th>3</th>\n",
       "      <td>%---Ry--%</td>\n",
       "    </tr>\n",
       "    <tr>\n",
       "      <th>4</th>\n",
       "      <td>%---%---%</td>\n",
       "    </tr>\n",
       "    <tr>\n",
       "      <th>5</th>\n",
       "      <td>%---%---Ry</td>\n",
       "    </tr>\n",
       "    <tr>\n",
       "      <th>6</th>\n",
       "      <td>%---%---%</td>\n",
       "    </tr>\n",
       "    <tr>\n",
       "      <th>7</th>\n",
       "      <td>Ry--%---%</td>\n",
       "    </tr>\n",
       "    <tr>\n",
       "      <th>8</th>\n",
       "      <td>%---%---%</td>\n",
       "    </tr>\n",
       "    <tr>\n",
       "      <th>9</th>\n",
       "      <td>%---%---Ry</td>\n",
       "    </tr>\n",
       "    <tr>\n",
       "      <th>10</th>\n",
       "      <td>%---%---%</td>\n",
       "    </tr>\n",
       "    <tr>\n",
       "      <th>11</th>\n",
       "      <td>%---Ry--%</td>\n",
       "    </tr>\n",
       "    <tr>\n",
       "      <th>12</th>\n",
       "      <td>%---%---%</td>\n",
       "    </tr>\n",
       "    <tr>\n",
       "      <th>13</th>\n",
       "      <td>%---%---Ry</td>\n",
       "    </tr>\n",
       "    <tr>\n",
       "      <th>14</th>\n",
       "      <td>%---%---%</td>\n",
       "    </tr>\n",
       "  </tbody>\n",
       "</table>\n",
       "</div>"
      ],
      "text/plain": [
       "             0\n",
       "0    %---%---%\n",
       "1   %---%---Ry\n",
       "2    %---%---%\n",
       "3    %---Ry--%\n",
       "4    %---%---%\n",
       "5   %---%---Ry\n",
       "6    %---%---%\n",
       "7    Ry--%---%\n",
       "8    %---%---%\n",
       "9   %---%---Ry\n",
       "10   %---%---%\n",
       "11   %---Ry--%\n",
       "12   %---%---%\n",
       "13  %---%---Ry\n",
       "14   %---%---%"
      ]
     },
     "execution_count": 18,
     "metadata": {},
     "output_type": "execute_result"
    }
   ],
   "source": [
    "file = './qubiter/io_folder/'+file_prefix + \"_3_ZLpic.txt\"\n",
    "df = pd.read_csv(file, delim_whitespace=True, header=None)\n",
    "df"
   ]
  },
  {
   "cell_type": "code",
   "execution_count": 19,
   "metadata": {},
   "outputs": [
    {
     "name": "stdout",
     "output_type": "stream",
     "text": [
      "/Users/yaroslav/Dropbox/Turation/qubiter\n"
     ]
    }
   ],
   "source": [
    "cwd = os.getcwd()\n",
    "print(cwd)"
   ]
  },
  {
   "cell_type": "markdown",
   "metadata": {},
   "source": [
    "Let us also print the corresponding English file that was created."
   ]
  },
  {
   "cell_type": "code",
   "execution_count": 20,
   "metadata": {},
   "outputs": [
    {
     "data": {
      "text/html": [
       "<div>\n",
       "<style scoped>\n",
       "    .dataframe tbody tr th:only-of-type {\n",
       "        vertical-align: middle;\n",
       "    }\n",
       "\n",
       "    .dataframe tbody tr th {\n",
       "        vertical-align: top;\n",
       "    }\n",
       "\n",
       "    .dataframe thead th {\n",
       "        text-align: right;\n",
       "    }\n",
       "</style>\n",
       "<table border=\"1\" class=\"dataframe\">\n",
       "  <thead>\n",
       "    <tr style=\"text-align: right;\">\n",
       "      <th></th>\n",
       "      <th>0</th>\n",
       "      <th>1</th>\n",
       "      <th>2</th>\n",
       "      <th>3</th>\n",
       "      <th>4</th>\n",
       "      <th>5</th>\n",
       "      <th>6</th>\n",
       "      <th>7</th>\n",
       "      <th>8</th>\n",
       "      <th>9</th>\n",
       "      <th>10</th>\n",
       "      <th>11</th>\n",
       "      <th>12</th>\n",
       "      <th>13</th>\n",
       "    </tr>\n",
       "  </thead>\n",
       "  <tbody>\n",
       "    <tr>\n",
       "      <th>0</th>\n",
       "      <td>DIAG</td>\n",
       "      <td>IF</td>\n",
       "      <td>2:2</td>\n",
       "      <td>1:1</td>\n",
       "      <td>0:0</td>\n",
       "      <td>BY</td>\n",
       "      <td>0.0</td>\n",
       "      <td>-112.500000</td>\n",
       "      <td>0.000000e+00</td>\n",
       "      <td>6.750000e+01</td>\n",
       "      <td>0.000000</td>\n",
       "      <td>6.750000e+01</td>\n",
       "      <td>0.0</td>\n",
       "      <td>-1.125000e+02</td>\n",
       "    </tr>\n",
       "    <tr>\n",
       "      <th>1</th>\n",
       "      <td>MP_Y</td>\n",
       "      <td>AT</td>\n",
       "      <td>0</td>\n",
       "      <td>IF</td>\n",
       "      <td>2:1</td>\n",
       "      <td>1:0</td>\n",
       "      <td>BY</td>\n",
       "      <td>45.000000</td>\n",
       "      <td>4.500000e+01</td>\n",
       "      <td>4.500000e+01</td>\n",
       "      <td>45.000000</td>\n",
       "      <td>NaN</td>\n",
       "      <td>NaN</td>\n",
       "      <td>NaN</td>\n",
       "    </tr>\n",
       "    <tr>\n",
       "      <th>2</th>\n",
       "      <td>DIAG</td>\n",
       "      <td>IF</td>\n",
       "      <td>2:2</td>\n",
       "      <td>1:1</td>\n",
       "      <td>0:0</td>\n",
       "      <td>BY</td>\n",
       "      <td>180.0</td>\n",
       "      <td>0.000000</td>\n",
       "      <td>1.350000e+02</td>\n",
       "      <td>1.350000e+02</td>\n",
       "      <td>0.000000</td>\n",
       "      <td>0.000000e+00</td>\n",
       "      <td>-45.0</td>\n",
       "      <td>1.350000e+02</td>\n",
       "    </tr>\n",
       "    <tr>\n",
       "      <th>3</th>\n",
       "      <td>MP_Y</td>\n",
       "      <td>AT</td>\n",
       "      <td>1</td>\n",
       "      <td>IF</td>\n",
       "      <td>2:1</td>\n",
       "      <td>0:0</td>\n",
       "      <td>BY</td>\n",
       "      <td>17.632195</td>\n",
       "      <td>7.236781e+01</td>\n",
       "      <td>1.763219e+01</td>\n",
       "      <td>72.367805</td>\n",
       "      <td>NaN</td>\n",
       "      <td>NaN</td>\n",
       "      <td>NaN</td>\n",
       "    </tr>\n",
       "    <tr>\n",
       "      <th>4</th>\n",
       "      <td>DIAG</td>\n",
       "      <td>IF</td>\n",
       "      <td>2:2</td>\n",
       "      <td>1:1</td>\n",
       "      <td>0:0</td>\n",
       "      <td>BY</td>\n",
       "      <td>0.0</td>\n",
       "      <td>180.000000</td>\n",
       "      <td>0.000000e+00</td>\n",
       "      <td>2.120370e-15</td>\n",
       "      <td>0.000000</td>\n",
       "      <td>-2.248992e-14</td>\n",
       "      <td>0.0</td>\n",
       "      <td>1.800000e+02</td>\n",
       "    </tr>\n",
       "    <tr>\n",
       "      <th>5</th>\n",
       "      <td>MP_Y</td>\n",
       "      <td>AT</td>\n",
       "      <td>0</td>\n",
       "      <td>IF</td>\n",
       "      <td>2:1</td>\n",
       "      <td>1:0</td>\n",
       "      <td>BY</td>\n",
       "      <td>45.000000</td>\n",
       "      <td>4.500000e+01</td>\n",
       "      <td>4.500000e+01</td>\n",
       "      <td>45.000000</td>\n",
       "      <td>NaN</td>\n",
       "      <td>NaN</td>\n",
       "      <td>NaN</td>\n",
       "    </tr>\n",
       "    <tr>\n",
       "      <th>6</th>\n",
       "      <td>DIAG</td>\n",
       "      <td>IF</td>\n",
       "      <td>2:2</td>\n",
       "      <td>1:1</td>\n",
       "      <td>0:0</td>\n",
       "      <td>BY</td>\n",
       "      <td>-1.2334647020611414e-14</td>\n",
       "      <td>-180.000000</td>\n",
       "      <td>1.800000e+02</td>\n",
       "      <td>-3.108305e-15</td>\n",
       "      <td>-90.000000</td>\n",
       "      <td>-9.000000e+01</td>\n",
       "      <td>90.0</td>\n",
       "      <td>9.000000e+01</td>\n",
       "    </tr>\n",
       "    <tr>\n",
       "      <th>7</th>\n",
       "      <td>MP_Y</td>\n",
       "      <td>AT</td>\n",
       "      <td>2</td>\n",
       "      <td>IF</td>\n",
       "      <td>1:1</td>\n",
       "      <td>0:0</td>\n",
       "      <td>BY</td>\n",
       "      <td>3.750000</td>\n",
       "      <td>2.625000e+01</td>\n",
       "      <td>6.375000e+01</td>\n",
       "      <td>86.250000</td>\n",
       "      <td>NaN</td>\n",
       "      <td>NaN</td>\n",
       "      <td>NaN</td>\n",
       "    </tr>\n",
       "    <tr>\n",
       "      <th>8</th>\n",
       "      <td>DIAG</td>\n",
       "      <td>IF</td>\n",
       "      <td>2:2</td>\n",
       "      <td>1:1</td>\n",
       "      <td>0:0</td>\n",
       "      <td>BY</td>\n",
       "      <td>0.0</td>\n",
       "      <td>90.000000</td>\n",
       "      <td>0.000000e+00</td>\n",
       "      <td>9.000000e+01</td>\n",
       "      <td>0.000000</td>\n",
       "      <td>-9.000000e+01</td>\n",
       "      <td>0.0</td>\n",
       "      <td>-9.000000e+01</td>\n",
       "    </tr>\n",
       "    <tr>\n",
       "      <th>9</th>\n",
       "      <td>MP_Y</td>\n",
       "      <td>AT</td>\n",
       "      <td>0</td>\n",
       "      <td>IF</td>\n",
       "      <td>2:1</td>\n",
       "      <td>1:0</td>\n",
       "      <td>BY</td>\n",
       "      <td>45.000000</td>\n",
       "      <td>4.500000e+01</td>\n",
       "      <td>4.500000e+01</td>\n",
       "      <td>45.000000</td>\n",
       "      <td>NaN</td>\n",
       "      <td>NaN</td>\n",
       "      <td>NaN</td>\n",
       "    </tr>\n",
       "    <tr>\n",
       "      <th>10</th>\n",
       "      <td>DIAG</td>\n",
       "      <td>IF</td>\n",
       "      <td>2:2</td>\n",
       "      <td>1:1</td>\n",
       "      <td>0:0</td>\n",
       "      <td>BY</td>\n",
       "      <td>180.0</td>\n",
       "      <td>0.000000</td>\n",
       "      <td>4.251517e-14</td>\n",
       "      <td>-3.539220e-14</td>\n",
       "      <td>0.000000</td>\n",
       "      <td>0.000000e+00</td>\n",
       "      <td>-180.0</td>\n",
       "      <td>-6.995233e-14</td>\n",
       "    </tr>\n",
       "    <tr>\n",
       "      <th>11</th>\n",
       "      <td>MP_Y</td>\n",
       "      <td>AT</td>\n",
       "      <td>1</td>\n",
       "      <td>IF</td>\n",
       "      <td>2:1</td>\n",
       "      <td>0:0</td>\n",
       "      <td>BY</td>\n",
       "      <td>17.632195</td>\n",
       "      <td>7.236781e+01</td>\n",
       "      <td>1.763219e+01</td>\n",
       "      <td>72.367805</td>\n",
       "      <td>NaN</td>\n",
       "      <td>NaN</td>\n",
       "      <td>NaN</td>\n",
       "    </tr>\n",
       "    <tr>\n",
       "      <th>12</th>\n",
       "      <td>DIAG</td>\n",
       "      <td>IF</td>\n",
       "      <td>2:2</td>\n",
       "      <td>1:1</td>\n",
       "      <td>0:0</td>\n",
       "      <td>BY</td>\n",
       "      <td>0.0</td>\n",
       "      <td>180.000000</td>\n",
       "      <td>0.000000e+00</td>\n",
       "      <td>6.297177e-14</td>\n",
       "      <td>0.000000</td>\n",
       "      <td>-1.574294e-14</td>\n",
       "      <td>0.0</td>\n",
       "      <td>-1.800000e+02</td>\n",
       "    </tr>\n",
       "    <tr>\n",
       "      <th>13</th>\n",
       "      <td>MP_Y</td>\n",
       "      <td>AT</td>\n",
       "      <td>0</td>\n",
       "      <td>IF</td>\n",
       "      <td>2:1</td>\n",
       "      <td>1:0</td>\n",
       "      <td>BY</td>\n",
       "      <td>45.000000</td>\n",
       "      <td>4.500000e+01</td>\n",
       "      <td>4.500000e+01</td>\n",
       "      <td>45.000000</td>\n",
       "      <td>NaN</td>\n",
       "      <td>NaN</td>\n",
       "      <td>NaN</td>\n",
       "    </tr>\n",
       "    <tr>\n",
       "      <th>14</th>\n",
       "      <td>DIAG</td>\n",
       "      <td>IF</td>\n",
       "      <td>2:2</td>\n",
       "      <td>1:1</td>\n",
       "      <td>0:0</td>\n",
       "      <td>BY</td>\n",
       "      <td>-112.49999999999994</td>\n",
       "      <td>-45.000000</td>\n",
       "      <td>2.250000e+01</td>\n",
       "      <td>-9.000000e+01</td>\n",
       "      <td>-22.500000</td>\n",
       "      <td>-1.350000e+02</td>\n",
       "      <td>112.5</td>\n",
       "      <td>-1.800000e+02</td>\n",
       "    </tr>\n",
       "  </tbody>\n",
       "</table>\n",
       "</div>"
      ],
      "text/plain": [
       "      0   1    2    3    4    5                        6           7   \\\n",
       "0   DIAG  IF  2:2  1:1  0:0   BY                      0.0 -112.500000   \n",
       "1   MP_Y  AT    0   IF  2:1  1:0                       BY   45.000000   \n",
       "2   DIAG  IF  2:2  1:1  0:0   BY                    180.0    0.000000   \n",
       "3   MP_Y  AT    1   IF  2:1  0:0                       BY   17.632195   \n",
       "4   DIAG  IF  2:2  1:1  0:0   BY                      0.0  180.000000   \n",
       "5   MP_Y  AT    0   IF  2:1  1:0                       BY   45.000000   \n",
       "6   DIAG  IF  2:2  1:1  0:0   BY  -1.2334647020611414e-14 -180.000000   \n",
       "7   MP_Y  AT    2   IF  1:1  0:0                       BY    3.750000   \n",
       "8   DIAG  IF  2:2  1:1  0:0   BY                      0.0   90.000000   \n",
       "9   MP_Y  AT    0   IF  2:1  1:0                       BY   45.000000   \n",
       "10  DIAG  IF  2:2  1:1  0:0   BY                    180.0    0.000000   \n",
       "11  MP_Y  AT    1   IF  2:1  0:0                       BY   17.632195   \n",
       "12  DIAG  IF  2:2  1:1  0:0   BY                      0.0  180.000000   \n",
       "13  MP_Y  AT    0   IF  2:1  1:0                       BY   45.000000   \n",
       "14  DIAG  IF  2:2  1:1  0:0   BY      -112.49999999999994  -45.000000   \n",
       "\n",
       "              8             9          10            11     12            13  \n",
       "0   0.000000e+00  6.750000e+01   0.000000  6.750000e+01    0.0 -1.125000e+02  \n",
       "1   4.500000e+01  4.500000e+01  45.000000           NaN    NaN           NaN  \n",
       "2   1.350000e+02  1.350000e+02   0.000000  0.000000e+00  -45.0  1.350000e+02  \n",
       "3   7.236781e+01  1.763219e+01  72.367805           NaN    NaN           NaN  \n",
       "4   0.000000e+00  2.120370e-15   0.000000 -2.248992e-14    0.0  1.800000e+02  \n",
       "5   4.500000e+01  4.500000e+01  45.000000           NaN    NaN           NaN  \n",
       "6   1.800000e+02 -3.108305e-15 -90.000000 -9.000000e+01   90.0  9.000000e+01  \n",
       "7   2.625000e+01  6.375000e+01  86.250000           NaN    NaN           NaN  \n",
       "8   0.000000e+00  9.000000e+01   0.000000 -9.000000e+01    0.0 -9.000000e+01  \n",
       "9   4.500000e+01  4.500000e+01  45.000000           NaN    NaN           NaN  \n",
       "10  4.251517e-14 -3.539220e-14   0.000000  0.000000e+00 -180.0 -6.995233e-14  \n",
       "11  7.236781e+01  1.763219e+01  72.367805           NaN    NaN           NaN  \n",
       "12  0.000000e+00  6.297177e-14   0.000000 -1.574294e-14    0.0 -1.800000e+02  \n",
       "13  4.500000e+01  4.500000e+01  45.000000           NaN    NaN           NaN  \n",
       "14  2.250000e+01 -9.000000e+01 -22.500000 -1.350000e+02  112.5 -1.800000e+02  "
      ]
     },
     "execution_count": 20,
     "metadata": {},
     "output_type": "execute_result"
    }
   ],
   "source": [
    "file = './qubiter/io_folder/'+file_prefix + '_3_eng.txt'\n",
    "df = pd.read_csv(file, delim_whitespace=True, header=None)\n",
    "df"
   ]
  },
  {
   "cell_type": "markdown",
   "metadata": {},
   "source": [
    "In the Picture files, a DIAG\n",
    "appears as a chain of percents, whereas an MP_Y appears as a chain of percents\n",
    "and  an additional Ry gate. As you can\n",
    "see, the Picture file gives a nice picture of the DIAG and MP_Y gates,\n",
    "but the English file is much more specific. Look at Qubiter's Rosetta Stone\n",
    "(qubiter_rosetta_stone.pdf)\n",
    "if you want to understand how to interpret \n",
    "the parameters of DIAG and MP_Y lines.\n",
    "\n",
    "A DIAG represents a diagonal matrix with diagonal entries that\n",
    "are unit magnitude complex numbers, making the matrix unitary.\n",
    "\n",
    "An MP_Y represents a matrix of the form\n",
    "\n",
    "$\\left[\\begin{array}{cc} cc & ss \\\\ -ss & cc \\end{array}\\right]$\n",
    "\n",
    "where $cc$ and $ss$ are real diagonal matrices of the same size \n",
    "such that $cc^2 + ss^2 = 1$."
   ]
  },
  {
   "cell_type": "markdown",
   "metadata": {},
   "source": [
    "The class DiagUnitaryExpander\n",
    "will take any English file and \n",
    "write new English and Picture files wherein \n",
    "\n",
    "* all lines except those starting with DIAG are echoed,\n",
    "* lines starting with DIAG are replaced by an exact or approximate\n",
    "multiline expansion. \n",
    "\n",
    "Likewise, the class MultiplexorExpander\n",
    "will take any English file and \n",
    "write new English and Picture files wherein \n",
    "\n",
    "* all lines except those starting with MP_Y are echoed,\n",
    "* lines starting with MP_Y are replaced by an exact or approximate\n",
    "multiline expansion. \n",
    "\n",
    "We could use these 2 expander\n",
    "classes to construct new English and Picture files from the English \n",
    "file printed above. This would lead to an English file\n",
    "that consisted of only CNOTs and qubit rotations. If the \n",
    "gates of that new English file were multiplied,\n",
    "the product would equal the original $U$. Such an English file would\n",
    "be very long and not too instructive so we won't show it here.\n",
    "Instead, we will show an exact expansion of a single DIAG and \n",
    "of a single MP_Y.\n"
   ]
  },
  {
   "cell_type": "markdown",
   "metadata": {},
   "source": [
    "Next, we create English and Picture files containing\n",
    "an expansion of the 4 qubit gate\n",
    "\n",
    "%---%---%---%\n",
    "\n",
    "This represents a diagonal unitary matrix. The \n",
    "angles are chosen at random and stored in the variable rad_angles.\n",
    "We then print the Picture file."
   ]
  },
  {
   "cell_type": "code",
   "execution_count": 21,
   "metadata": {},
   "outputs": [
    {
     "name": "stdout",
     "output_type": "stream",
     "text": [
      "|   |   |   Ph  \n",
      "|   |   |   Rz  \n",
      "|   |   @---X   \n",
      "|   |   |   Rz  \n",
      "|   |   @---X   \n",
      "|   |   Rz  |   \n",
      "|   @---X   |   \n",
      "|   |   Rz  |   \n",
      "|   @---X   |   \n",
      "|   |   @---X   \n",
      "|   @---+---X   \n",
      "|   |   |   Rz  \n",
      "|   |   @---X   \n",
      "|   |   |   Rz  \n",
      "|   @---+---X   \n",
      "|   Rz  |   |   \n",
      "@---X   |   |   \n",
      "|   Rz  |   |   \n",
      "@---X   |   |   \n",
      "|   @---+---X   \n",
      "@---+---+---X   \n",
      "|   |   |   Rz  \n",
      "|   |   @---X   \n",
      "|   |   |   Rz  \n",
      "|   |   @---X   \n",
      "|   @---+---X   \n",
      "@---+---+---X   \n",
      "|   @---X   |   \n",
      "@---+---X   |   \n",
      "|   |   Rz  |   \n",
      "|   @---X   |   \n",
      "|   |   Rz  |   \n",
      "@---+---X   |   \n",
      "|   |   @---X   \n",
      "@---+---+---X   \n",
      "|   |   |   Rz  \n",
      "|   |   @---X   \n",
      "|   |   |   Rz  \n",
      "@---+---+---X   \n",
      "Rz  |   |   |   \n",
      "\n"
     ]
    }
   ],
   "source": [
    "file_prefix = \"d_unitary_exact_check\"\n",
    "num_bits = 4\n",
    "num_angles = (1 << num_bits)\n",
    "emb = CktEmbedder(num_bits, num_bits)\n",
    "rad_angles = list(np.random.rand(num_angles)*2*np.pi)\n",
    "wr = DiagUnitarySEO_writer(file_prefix, emb, 'exact', rad_angles)\n",
    "wr.write()\n",
    "wr.close_files()\n",
    "file = './qubiter/io_folder/'+file_prefix + '_4_ZLpic.txt'\n",
    "with open(file) as f:\n",
    "    print(f.read())"
   ]
  },
  {
   "cell_type": "markdown",
   "metadata": {},
   "source": [
    "We can check that our exact expansion is correct\n",
    "as follows. We can multiply the gates of the expansion\n",
    "using the class SEO_MatrixProduct. Call the gate product matpro.prod_arr.\n",
    "Using the angles rad_angles that we stored,\n",
    "we can construct the exact diagonal unitary, call it exact_mat.\n",
    "Call err the norm of matpro.prod_arr - exact_mat,\n",
    "and print err."
   ]
  },
  {
   "cell_type": "code",
   "execution_count": 22,
   "metadata": {},
   "outputs": [
    {
     "name": "stdout",
     "output_type": "stream",
     "text": [
      "diag unitary error= 4.479769465637805e-15\n"
     ]
    }
   ],
   "source": [
    "matpro = SEO_MatrixProduct(file_prefix, num_bits)\n",
    "exact_mat = DiagUnitarySEO_writer.du_mat(rad_angles)\n",
    "err = np.linalg.norm(matpro.prod_arr - exact_mat)\n",
    "print(\"diag unitary error=\", err)"
   ]
  },
  {
   "cell_type": "markdown",
   "metadata": {},
   "source": [
    "Next, we create English and Picture files containing\n",
    "an expansion of the 4 qubit gate\n",
    "\n",
    "Ry--%---%---%\n",
    "\n",
    "This represents a multiplexor matrix. The \n",
    "angles are chosen at random and stored in the variable rad_angles.\n",
    "We then print the Picture file."
   ]
  },
  {
   "cell_type": "code",
   "execution_count": 23,
   "metadata": {},
   "outputs": [
    {
     "name": "stdout",
     "output_type": "stream",
     "text": [
      "Ry  |   |   |   \n",
      "X---+---+---@   \n",
      "Ry  |   |   |   \n",
      "X---+---@   |   \n",
      "Ry  |   |   |   \n",
      "X---+---+---@   \n",
      "Ry  |   |   |   \n",
      "X---@   |   |   \n",
      "Ry  |   |   |   \n",
      "X---+---+---@   \n",
      "Ry  |   |   |   \n",
      "X---+---@   |   \n",
      "Ry  |   |   |   \n",
      "X---+---+---@   \n",
      "Ry  |   |   |   \n",
      "X---@   |   |   \n",
      "\n"
     ]
    }
   ],
   "source": [
    "file_prefix = \"plexor_exact_check\"\n",
    "num_bits = 4\n",
    "num_angles = (1 << (num_bits-1))\n",
    "emb = CktEmbedder(num_bits, num_bits)\n",
    "rad_angles = list(np.random.rand(num_angles)*2*np.pi)\n",
    "wr = MultiplexorSEO_writer(file_prefix, emb, 'exact', rad_angles)\n",
    "wr.write()\n",
    "wr.close_files()\n",
    "file = './qubiter/io_folder/'+file_prefix + '_4_ZLpic.txt'\n",
    "with open(file) as f:\n",
    "    print(f.read())"
   ]
  },
  {
   "cell_type": "markdown",
   "metadata": {},
   "source": [
    "We can check that our exact expansion is correct\n",
    "as follows. We can multiply the gates of the expansion\n",
    "using the class SEO_MatrixProduct. Call the gate product matpro.prod_arr.\n",
    "Using the angles rad_angles that we stored,\n",
    "we can construct the exact multiplexor matrix, call it exact_mat.\n",
    "Call err the norm of matpro.prod_arr - exact_mat,\n",
    "and print err."
   ]
  },
  {
   "cell_type": "code",
   "execution_count": 24,
   "metadata": {},
   "outputs": [
    {
     "name": "stdout",
     "output_type": "stream",
     "text": [
      "multiplexor error= 4.665249094692724e-15\n"
     ]
    }
   ],
   "source": [
    "matpro = SEO_MatrixProduct(file_prefix, num_bits)\n",
    "exact_mat = MultiplexorSEO_writer.mp_mat(rad_angles)\n",
    "err = np.linalg.norm(matpro.prod_arr - exact_mat)\n",
    "print(\"multiplexor error=\", err)"
   ]
  },
  {
   "cell_type": "markdown",
   "metadata": {},
   "source": [
    "A moral of the above calculations is that using  CSD\n",
    "quantum compiling blindly will give a SEO for a quantum Fourier Transform QFT that is exponential in the number of qubits $n$. And yet we know that Coppersmith came up with an expansion for the QFT that is polynomial in $n$. But there is hope: CSD is not a unique decomposition.\n",
    "Ref.3 explains how one can coax a CSD compiler to yield Coppersmith's decompostion.\n",
    "\n",
    "Let $U$ be N dimensional, with $N = 2^n$, where $n$ = number of\n",
    "qubits. A general N dimensional unitary matrix has $N^2$ dofs (real\n",
    "degrees of freedom). That's because it has $N^2$ complex entries, so $2N^2$\n",
    "real parameters, but those parameters are subject to N real constraints\n",
    "and N(N-1)/2 complex constraints, for a total of $N^2$ real constraints.\n",
    "So $2N^2$ real parameters minus N^2 real constraints gives $N^2$ dofs.\n",
    "\n",
    "(a) Each DIAG (MP_Y, resp.) line of the CS decomp of $U$\n",
    "depends on N (N/2, resp.) angles and there are about N DIAG and N MP_Y\n",
    "lines. So the DIAG lines alone have enough dofs, $N^2$ of them, to cover\n",
    "all $N^2$ dofs of $U$. So clearly, there is a lot of\n",
    "redundancy in the CS decomp used by Qubiter. But, there is hope: the CS\n",
    "decomp is not unique, and it might be possible to choose a CS decomp\n",
    "that makes zero many of the angles in the DIAG and MP_Y lines. \n",
    "\n",
    "(b) The CS decomp as used here leads to order $N^2 = 2^{2n}$ cnots and\n",
    "qubit rotations so it is impractical for large N. But for small N,\n",
    "it can be useful. For large N, it might be possible to discover\n",
    "approximations to individual MP_Y and DIAG lines.\n",
    "    \n",
    "Clearly, there is much room for future research to improve (a) and (b).\n"
   ]
  }
 ],
 "metadata": {
  "anaconda-cloud": {},
  "celltoolbar": "Raw Cell Format",
  "kernelspec": {
   "display_name": "Python 3",
   "language": "python",
   "name": "python3"
  },
  "language_info": {
   "codemirror_mode": {
    "name": "ipython",
    "version": 3
   },
   "file_extension": ".py",
   "mimetype": "text/x-python",
   "name": "python",
   "nbconvert_exporter": "python",
   "pygments_lexer": "ipython3",
   "version": "3.7.4"
  },
  "nbpresent": {
   "slides": {},
   "themes": {
    "default": "a50a26ea-9250-4d78-a796-a4577cc9eaa1",
    "theme": {
     "a50a26ea-9250-4d78-a796-a4577cc9eaa1": {
      "id": "a50a26ea-9250-4d78-a796-a4577cc9eaa1",
      "palette": {
       "19cc588f-0593-49c9-9f4b-e4d7cc113b1c": {
        "id": "19cc588f-0593-49c9-9f4b-e4d7cc113b1c",
        "rgb": [
         252,
         252,
         252
        ]
       },
       "31af15d2-7e15-44c5-ab5e-e04b16a89eff": {
        "id": "31af15d2-7e15-44c5-ab5e-e04b16a89eff",
        "rgb": [
         68,
         68,
         68
        ]
       },
       "50f92c45-a630-455b-aec3-788680ec7410": {
        "id": "50f92c45-a630-455b-aec3-788680ec7410",
        "rgb": [
         155,
         177,
         192
        ]
       },
       "c5cc3653-2ee1-402a-aba2-7caae1da4f6c": {
        "id": "c5cc3653-2ee1-402a-aba2-7caae1da4f6c",
        "rgb": [
         43,
         126,
         184
        ]
       },
       "efa7f048-9acb-414c-8b04-a26811511a21": {
        "id": "efa7f048-9acb-414c-8b04-a26811511a21",
        "rgb": [
         25.118061674008803,
         73.60176211453744,
         107.4819383259912
        ]
       }
      },
      "rules": {
       "blockquote": {
        "color": "50f92c45-a630-455b-aec3-788680ec7410"
       },
       "code": {
        "font-family": "Anonymous Pro"
       },
       "h1": {
        "color": "c5cc3653-2ee1-402a-aba2-7caae1da4f6c",
        "font-family": "Lato",
        "font-size": 8
       },
       "h2": {
        "color": "c5cc3653-2ee1-402a-aba2-7caae1da4f6c",
        "font-family": "Lato",
        "font-size": 6
       },
       "h3": {
        "color": "50f92c45-a630-455b-aec3-788680ec7410",
        "font-family": "Lato",
        "font-size": 5.5
       },
       "h4": {
        "color": "c5cc3653-2ee1-402a-aba2-7caae1da4f6c",
        "font-family": "Lato",
        "font-size": 5
       },
       "h5": {
        "font-family": "Lato"
       },
       "h6": {
        "font-family": "Lato"
       },
       "h7": {
        "font-family": "Lato"
       },
       "pre": {
        "font-family": "Anonymous Pro",
        "font-size": 4
       }
      },
      "text-base": {
       "font-family": "Merriweather",
       "font-size": 4
      }
     }
    }
   }
  },
  "toc": {
   "colors": {
    "hover_highlight": "#DAA520",
    "running_highlight": "#FF0000",
    "selected_highlight": "#FFD700"
   },
   "moveMenuLeft": true,
   "nav_menu": {
    "height": "30px",
    "width": "252px"
   },
   "navigate_menu": true,
   "number_sections": true,
   "sideBar": true,
   "threshold": 4,
   "toc_cell": false,
   "toc_section_display": "block",
   "toc_window_display": false,
   "widenNotebook": false
  }
 },
 "nbformat": 4,
 "nbformat_minor": 1
}
