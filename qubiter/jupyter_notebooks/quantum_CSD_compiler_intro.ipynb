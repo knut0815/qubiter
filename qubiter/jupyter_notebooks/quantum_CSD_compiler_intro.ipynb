{
 "cells": [
  {
   "cell_type": "markdown",
   "metadata": {},
   "source": [
    "# Quantum CSD Compiling Intro\n",
    "\n",
    "The purpose of this notebook is to give a quick introduction to Qubiter's \n",
    "CSD quantum compiler capabilities. \n",
    "\n",
    "By a quantum complier, we mean\n",
    "a computer program that takes as input an arbitrary unitary matrix $U$ of dimension $N=2^n$\n",
    "and returns a SEO (sequence of elementary operations, in this case CNOTs and single qubit\n",
    "rotations) that equals $U$. There are various kinds of quantum \n",
    "compilers. Suppose $U$ is of the form $U=e^{-itH}$, where $t$ is time and $H$ is\n",
    "the Hamiltonian operator. If $H$ has a form which is known a priori, a situation\n",
    "that is common in Physics and Chemistry, then a popular way of expanding $U$\n",
    "is by using the Trotter-Suzuki approximation. If the form of $H$ is not\n",
    "known a priori as is common in Artificial Intelligence, then\n",
    "we recommend using the CS (Cosine-Sine) decomposition of Linear Algebra.\n",
    "Both methods are already implemented in Qubiter, but this notebook is about\n",
    "the CSD.\n",
    "\n",
    "Doing CSD quantum compiling with Qubiter requires using the classes in the quantum_CSD_compiler\n",
    "folder, which will only work properly if you install, besides all the Qubiter\n",
    "Python files and a Python distro that includes numpy and scipy (for example, Anaconda),\n",
    "some binary libraries prepared by Artiste-q.net which include\n",
    "a Python wrapper for a LAPACK subroutine\n",
    "called cuncsd.f that performs CSDs. How to install those binary libraries\n",
    "is explained elsewhere in this site. Henceforth, we will assume \n",
    "all the necessary files have been installed on your computer if you want to redo the calculations.\n",
    "\n",
    "The quantum_CSD_compiler folder includes a pdf called csd-intro.pdf that gives\n",
    "an introduction to the CSD. \n",
    "\n",
    "Some external references:\n",
    "\n",
    "\n",
    "1. R.R. Tucci, A Rudimentary Quantum Compiler(2cnd Ed.)\n",
    "    https://arxiv.org/abs/quant-ph/9902062\n",
    "\n",
    "2. Qubiter 1.11, a C++ program whose first version was released together\n",
    "    with Ref.1 above. Qubiter 1.11 is included in the\n",
    "    quantum_CSD_compiler/LEGACY folder of this newer, pythonic version of Qubiter\n",
    "    \n",
    "3. R.R. Tucci, Quantum Fast Fourier Transform Viewed as a Special Case of Recursive Application of Cosine-Sine Decomposition, https://arxiv.org/abs/quant-ph/0411097\n",
    "\n"
   ]
  },
  {
   "cell_type": "markdown",
   "metadata": {},
   "source": [
    "Qubiter applies CSD recursively\n",
    "to build a tree of node matrices. The product of those node matrices,\n",
    "if read in the correct order, is equal to the input matrix $U$.\n",
    "\n",
    "As an example, let us use for $U$ a 3 qubit quantum Fourier matrix.\n",
    "We can create an object of class Tree with $U$ \n",
    "as input as follows"
   ]
  },
  {
   "cell_type": "code",
   "execution_count": 1,
   "metadata": {},
   "outputs": [
    {
     "name": "stdout",
     "output_type": "stream",
     "text": [
      "/Users/yaroslav/Dropbox/Turation/fork_qubiter/qubiter/qubiter/jupyter_notebooks\n",
      "/Users/yaroslav/Dropbox/Turation/fork_qubiter/qubiter\n"
     ]
    }
   ],
   "source": [
    "import os\n",
    "import sys\n",
    "print(os.getcwd())\n",
    "os.chdir('../../')\n",
    "print(os.getcwd())\n",
    "sys.path.insert(0,os.getcwd())\n",
    "%load_ext autoreload\n",
    "%autoreload 2"
   ]
  },
  {
   "cell_type": "code",
   "execution_count": 2,
   "metadata": {},
   "outputs": [
    {
     "name": "stdout",
     "output_type": "stream",
     "text": [
      "loaded OneBitGates, WITHOUT autograd.numpy\n"
     ]
    }
   ],
   "source": [
    "import numpy as np\n",
    "# import cunsd\n",
    "# import cuncsd_sq as csd\n",
    "import math\n",
    "from qubiter.FouSEO_writer import *\n",
    "from qubiter.CGateSEO_writer import *\n",
    "from qubiter.CGateExpander import *\n",
    "from qubiter.quantum_CSD_compiler.MultiplexorExpander import *\n",
    "from qubiter.quantum_CSD_compiler.Tree import *\n",
    "from qubiter.quantum_CSD_compiler.DiagUnitarySEO_writer import *\n",
    "from qubiter.quantum_CSD_compiler.MultiplexorSEO_writer import *\n",
    "from qubiter.quantum_CSD_compiler.DiagUnitaryExpander import *\n",
    "import pandas as pd"
   ]
  },
  {
   "cell_type": "code",
   "execution_count": 3,
   "metadata": {},
   "outputs": [
    {
     "name": "stderr",
     "output_type": "stream",
     "text": [
      "/usr/local/lib/python3.7/site-packages/pycsd.py:114: ComplexWarning: Casting complex values to real discards the imaginary part\n",
      "  signs=signs)\n"
     ]
    }
   ],
   "source": [
    "from scipy.stats import unitary_group\n",
    "\n",
    "num_bits = 2\n",
    "#init_unitary_mat = FouSEO_writer.fourier_trans_mat(1 << num_bits)\n",
    "init_unitary_mat = unitary_group.rvs(2**num_bits)\n",
    "emb = CktEmbedder(num_bits, num_bits)\n",
    "file_prefix = \"csd_test\"\n",
    "t = Tree(True, file_prefix, emb, init_unitary_mat, verbose=False)\n",
    "t.close_files()"
   ]
  },
  {
   "cell_type": "markdown",
   "metadata": {},
   "source": [
    "The above code automatically creates an expansion of $U$ \n",
    "into DIAG and MP_Y lines. Next we print the Picture file that was created."
   ]
  },
  {
   "cell_type": "code",
   "execution_count": 4,
   "metadata": {},
   "outputs": [
    {
     "data": {
      "text/plain": [
       "'csd_test'"
      ]
     },
     "execution_count": 4,
     "metadata": {},
     "output_type": "execute_result"
    }
   ],
   "source": [
    "file_prefix"
   ]
  },
  {
   "cell_type": "code",
   "execution_count": 5,
   "metadata": {},
   "outputs": [
    {
     "data": {
      "text/html": [
       "<div>\n",
       "<style scoped>\n",
       "    .dataframe tbody tr th:only-of-type {\n",
       "        vertical-align: middle;\n",
       "    }\n",
       "\n",
       "    .dataframe tbody tr th {\n",
       "        vertical-align: top;\n",
       "    }\n",
       "\n",
       "    .dataframe thead th {\n",
       "        text-align: right;\n",
       "    }\n",
       "</style>\n",
       "<table border=\"1\" class=\"dataframe\">\n",
       "  <thead>\n",
       "    <tr style=\"text-align: right;\">\n",
       "      <th></th>\n",
       "      <th>0</th>\n",
       "    </tr>\n",
       "  </thead>\n",
       "  <tbody>\n",
       "    <tr>\n",
       "      <th>0</th>\n",
       "      <td>%---%</td>\n",
       "    </tr>\n",
       "    <tr>\n",
       "      <th>1</th>\n",
       "      <td>%---Ry</td>\n",
       "    </tr>\n",
       "    <tr>\n",
       "      <th>2</th>\n",
       "      <td>%---%</td>\n",
       "    </tr>\n",
       "    <tr>\n",
       "      <th>3</th>\n",
       "      <td>Ry--%</td>\n",
       "    </tr>\n",
       "    <tr>\n",
       "      <th>4</th>\n",
       "      <td>%---%</td>\n",
       "    </tr>\n",
       "    <tr>\n",
       "      <th>5</th>\n",
       "      <td>%---Ry</td>\n",
       "    </tr>\n",
       "    <tr>\n",
       "      <th>6</th>\n",
       "      <td>%---%</td>\n",
       "    </tr>\n",
       "  </tbody>\n",
       "</table>\n",
       "</div>"
      ],
      "text/plain": [
       "        0\n",
       "0   %---%\n",
       "1  %---Ry\n",
       "2   %---%\n",
       "3   Ry--%\n",
       "4   %---%\n",
       "5  %---Ry\n",
       "6   %---%"
      ]
     },
     "execution_count": 5,
     "metadata": {},
     "output_type": "execute_result"
    }
   ],
   "source": [
    "file = './qubiter/io_folder/'+file_prefix + \"_2_ZLpic.txt\"\n",
    "df = pd.read_csv(file, delim_whitespace=True, header=None)\n",
    "df"
   ]
  },
  {
   "cell_type": "code",
   "execution_count": 6,
   "metadata": {},
   "outputs": [
    {
     "data": {
      "text/plain": [
       "'./qubiter/io_folder/csd_test_2_ZLpic.txt'"
      ]
     },
     "execution_count": 6,
     "metadata": {},
     "output_type": "execute_result"
    }
   ],
   "source": [
    "file"
   ]
  },
  {
   "cell_type": "code",
   "execution_count": 7,
   "metadata": {},
   "outputs": [
    {
     "data": {
      "text/html": [
       "<div>\n",
       "<style scoped>\n",
       "    .dataframe tbody tr th:only-of-type {\n",
       "        vertical-align: middle;\n",
       "    }\n",
       "\n",
       "    .dataframe tbody tr th {\n",
       "        vertical-align: top;\n",
       "    }\n",
       "\n",
       "    .dataframe thead th {\n",
       "        text-align: right;\n",
       "    }\n",
       "</style>\n",
       "<table border=\"1\" class=\"dataframe\">\n",
       "  <thead>\n",
       "    <tr style=\"text-align: right;\">\n",
       "      <th></th>\n",
       "      <th>0</th>\n",
       "    </tr>\n",
       "  </thead>\n",
       "  <tbody>\n",
       "    <tr>\n",
       "      <th>0</th>\n",
       "      <td>%---%</td>\n",
       "    </tr>\n",
       "    <tr>\n",
       "      <th>1</th>\n",
       "      <td>%---Ry</td>\n",
       "    </tr>\n",
       "    <tr>\n",
       "      <th>2</th>\n",
       "      <td>%---%</td>\n",
       "    </tr>\n",
       "    <tr>\n",
       "      <th>3</th>\n",
       "      <td>Ry--%</td>\n",
       "    </tr>\n",
       "    <tr>\n",
       "      <th>4</th>\n",
       "      <td>%---%</td>\n",
       "    </tr>\n",
       "    <tr>\n",
       "      <th>5</th>\n",
       "      <td>%---Ry</td>\n",
       "    </tr>\n",
       "    <tr>\n",
       "      <th>6</th>\n",
       "      <td>%---%</td>\n",
       "    </tr>\n",
       "  </tbody>\n",
       "</table>\n",
       "</div>"
      ],
      "text/plain": [
       "        0\n",
       "0   %---%\n",
       "1  %---Ry\n",
       "2   %---%\n",
       "3   Ry--%\n",
       "4   %---%\n",
       "5  %---Ry\n",
       "6   %---%"
      ]
     },
     "execution_count": 7,
     "metadata": {},
     "output_type": "execute_result"
    }
   ],
   "source": [
    "df"
   ]
  },
  {
   "cell_type": "code",
   "execution_count": 8,
   "metadata": {},
   "outputs": [
    {
     "data": {
      "text/plain": [
       "'csd_test'"
      ]
     },
     "execution_count": 8,
     "metadata": {},
     "output_type": "execute_result"
    }
   ],
   "source": [
    "file_prefix"
   ]
  },
  {
   "cell_type": "code",
   "execution_count": 9,
   "metadata": {},
   "outputs": [],
   "source": [
    "# wr = CGateSEO_writer(file_prefix, emb, expand_1c_u2=True)\n"
   ]
  },
  {
   "cell_type": "code",
   "execution_count": 10,
   "metadata": {},
   "outputs": [],
   "source": [
    "# wr.close_files()"
   ]
  },
  {
   "cell_type": "code",
   "execution_count": 11,
   "metadata": {},
   "outputs": [
    {
     "name": "stdout",
     "output_type": "stream",
     "text": [
      "line_num, operation = 1 1\n",
      "line_num, operation = 2 2\n",
      "line_num, operation = 3 3\n",
      "line_num, operation = 4 4\n",
      "line_num, operation = 5 5\n",
      "line_num, operation = 6 6\n",
      "line_num, operation = 7 7\n"
     ]
    }
   ],
   "source": [
    "style = 'exact'\n",
    "xer = MultiplexorExpander(file_prefix, num_bits, style, verbose=True)"
   ]
  },
  {
   "cell_type": "code",
   "execution_count": 12,
   "metadata": {},
   "outputs": [],
   "source": [
    "style = 'exact'\n",
    "xer = DiagUnitaryExpander(file_prefix+'_X1', num_bits, style)"
   ]
  },
  {
   "cell_type": "code",
   "execution_count": 13,
   "metadata": {},
   "outputs": [
    {
     "name": "stdout",
     "output_type": "stream",
     "text": [
      "line_num, operation = 1 1\n",
      "line_num, operation = 2 2\n",
      "line_num, operation = 3 3\n",
      "line_num, operation = 4 4\n",
      "line_num, operation = 5 5\n",
      "line_num, operation = 6 6\n",
      "line_num, operation = 7 7\n",
      "line_num, operation = 8 8\n",
      "line_num, operation = 9 9\n",
      "line_num, operation = 10 10\n",
      "line_num, operation = 11 11\n",
      "line_num, operation = 12 12\n",
      "line_num, operation = 13 13\n",
      "line_num, operation = 14 14\n",
      "line_num, operation = 15 15\n",
      "line_num, operation = 16 16\n",
      "line_num, operation = 17 17\n",
      "line_num, operation = 18 18\n",
      "line_num, operation = 19 19\n",
      "line_num, operation = 20 20\n",
      "line_num, operation = 21 21\n",
      "line_num, operation = 22 22\n",
      "line_num, operation = 23 23\n",
      "line_num, operation = 24 24\n",
      "line_num, operation = 25 25\n",
      "line_num, operation = 26 26\n",
      "line_num, operation = 27 27\n",
      "line_num, operation = 28 28\n",
      "line_num, operation = 29 29\n",
      "line_num, operation = 30 30\n",
      "line_num, operation = 31 31\n",
      "line_num, operation = 32 32\n",
      "line_num, operation = 33 33\n",
      "line_num, operation = 34 34\n",
      "line_num, operation = 35 35\n",
      "line_num, operation = 36 36\n"
     ]
    }
   ],
   "source": [
    "style = 'exact'\n",
    "xer = MultiplexorExpander(file_prefix+'_X2', num_bits, style, verbose=False)"
   ]
  },
  {
   "cell_type": "code",
   "execution_count": 14,
   "metadata": {},
   "outputs": [],
   "source": [
    "exp = CGateExpander(file_prefix+'_X3', num_bits)"
   ]
  },
  {
   "cell_type": "code",
   "execution_count": 22,
   "metadata": {},
   "outputs": [
    {
     "name": "stdout",
     "output_type": "stream",
     "text": [
      "|   Ph  \n",
      "\n",
      "|   Rz  \n",
      "\n",
      "@---X   \n",
      "\n",
      "|   Rz  \n",
      "\n",
      "@---X   \n",
      "\n",
      "Rz  |   \n",
      "\n",
      "|   Ry  \n",
      "\n",
      "@---X   \n",
      "\n",
      "|   Ry  \n",
      "\n",
      "@---X   \n",
      "\n",
      "|   Ph  \n",
      "\n",
      "|   Rz  \n",
      "\n",
      "@---X   \n",
      "\n",
      "|   Rz  \n",
      "\n",
      "@---X   \n",
      "\n",
      "Rz  |   \n",
      "\n",
      "Ry  |   \n",
      "\n",
      "X---@   \n",
      "\n",
      "Ry  |   \n",
      "\n",
      "X---@   \n",
      "\n",
      "|   Ph  \n",
      "\n",
      "|   Rz  \n",
      "\n",
      "@---X   \n",
      "\n",
      "|   Rz  \n",
      "\n",
      "@---X   \n",
      "\n",
      "Rz  |   \n",
      "\n",
      "|   Ry  \n",
      "\n",
      "@---X   \n",
      "\n",
      "|   Ry  \n",
      "\n",
      "@---X   \n",
      "\n",
      "|   Ph  \n",
      "\n",
      "|   Rz  \n",
      "\n",
      "@---X   \n",
      "\n",
      "|   Rz  \n",
      "\n",
      "@---X   \n",
      "\n",
      "Rz  |   \n",
      "\n"
     ]
    }
   ],
   "source": [
    "file = './qubiter/io_folder/'+file_prefix + '_X4_2_ZLpic.txt'\n",
    "log = open(file)\n",
    "for line in log:\n",
    "    print(line)"
   ]
  },
  {
   "cell_type": "code",
   "execution_count": 16,
   "metadata": {},
   "outputs": [
    {
     "name": "stdout",
     "output_type": "stream",
     "text": [
      "/Users/yaroslav/Dropbox/Turation/fork_qubiter/qubiter\n"
     ]
    }
   ],
   "source": [
    "cwd = os.getcwd()\n",
    "print(cwd)"
   ]
  },
  {
   "cell_type": "markdown",
   "metadata": {},
   "source": [
    "Let us also print the corresponding English file that was created."
   ]
  },
  {
   "cell_type": "code",
   "execution_count": 23,
   "metadata": {},
   "outputs": [
    {
     "name": "stdout",
     "output_type": "stream",
     "text": [
      "PHAS\t17.68416609103625\tAT\t0\n",
      "\n",
      "ROTZ\t-17.68416609103625\tAT\t0\n",
      "\n",
      "SIGX\tAT\t0\tIF\t1T\n",
      "\n",
      "ROTZ\t-61.40791189206536\tAT\t0\n",
      "\n",
      "SIGX\tAT\t0\tIF\t1T\n",
      "\n",
      "ROTZ\t61.40791189206536\tAT\t1\n",
      "\n",
      "ROTY\t30.160200949348333\tAT\t0\n",
      "\n",
      "SIGX\tAT\t0\tIF\t1T\n",
      "\n",
      "ROTY\t21.196412932562623\tAT\t0\n",
      "\n",
      "SIGX\tAT\t0\tIF\t1T\n",
      "\n",
      "PHAS\t61.77727764434243\tAT\t0\n",
      "\n",
      "ROTZ\t94.83946970562926\tAT\t0\n",
      "\n",
      "SIGX\tAT\t0\tIF\t1T\n",
      "\n",
      "ROTZ\t-4.83946970562927\tAT\t0\n",
      "\n",
      "SIGX\tAT\t0\tIF\t1T\n",
      "\n",
      "ROTZ\t28.222722355657567\tAT\t1\n",
      "\n",
      "ROTY\t44.08122923812534\tAT\t1\n",
      "\n",
      "SIGX\tAT\t1\tIF\t0T\n",
      "\n",
      "ROTY\t-33.271299888782245\tAT\t1\n",
      "\n",
      "SIGX\tAT\t1\tIF\t0T\n",
      "\n",
      "PHAS\t3.6561945430479508\tAT\t0\n",
      "\n",
      "ROTZ\t-3.656194543047949\tAT\t0\n",
      "\n",
      "SIGX\tAT\t0\tIF\t1T\n",
      "\n",
      "ROTZ\t39.463001589728705\tAT\t0\n",
      "\n",
      "SIGX\tAT\t0\tIF\t1T\n",
      "\n",
      "ROTZ\t-39.463001589728705\tAT\t1\n",
      "\n",
      "ROTY\t38.57247694453561\tAT\t0\n",
      "\n",
      "SIGX\tAT\t0\tIF\t1T\n",
      "\n",
      "ROTY\t16.34984632803168\tAT\t0\n",
      "\n",
      "SIGX\tAT\t0\tIF\t1T\n",
      "\n",
      "PHAS\t-83.11763827842663\tAT\t0\n",
      "\n",
      "ROTZ\t-57.34457803289921\tAT\t0\n",
      "\n",
      "SIGX\tAT\t0\tIF\t1T\n",
      "\n",
      "ROTZ\t-44.5706169992537\tAT\t0\n",
      "\n",
      "SIGX\tAT\t0\tIF\t1T\n",
      "\n",
      "ROTZ\t68.8319518315301\tAT\t1\n",
      "\n"
     ]
    }
   ],
   "source": [
    "file = './qubiter/io_folder/'+file_prefix + '_X4_2_eng.txt'\n",
    "log = open(file)\n",
    "for line in log:\n",
    "    print(line)"
   ]
  },
  {
   "cell_type": "code",
   "execution_count": 18,
   "metadata": {},
   "outputs": [
    {
     "data": {
      "text/plain": [
       "'csd_test'"
      ]
     },
     "execution_count": 18,
     "metadata": {},
     "output_type": "execute_result"
    }
   ],
   "source": [
    "file_prefix"
   ]
  },
  {
   "cell_type": "code",
   "execution_count": 19,
   "metadata": {},
   "outputs": [
    {
     "data": {
      "text/plain": [
       "<qubiter.quantum_CSD_compiler.DiagUnitaryExpander.DiagUnitaryExpander at 0x139e67750>"
      ]
     },
     "execution_count": 19,
     "metadata": {},
     "output_type": "execute_result"
    }
   ],
   "source": [
    "DiagUnitaryExpander(file_prefix, num_bits, 'exact')"
   ]
  },
  {
   "cell_type": "code",
   "execution_count": 20,
   "metadata": {},
   "outputs": [],
   "source": [
    "cg = CGateSEO_writer(file_prefix, emb, one_line=False)"
   ]
  },
  {
   "cell_type": "code",
   "execution_count": 21,
   "metadata": {},
   "outputs": [
    {
     "name": "stdout",
     "output_type": "stream",
     "text": [
      "\n"
     ]
    }
   ],
   "source": [
    "cg.print_eng_file()\n",
    "# cg.su2_mat_prod()"
   ]
  },
  {
   "cell_type": "code",
   "execution_count": 22,
   "metadata": {},
   "outputs": [
    {
     "data": {
      "text/plain": [
       "<qubiter.SEO_reader.SEO_reader at 0x139d7f150>"
      ]
     },
     "execution_count": 22,
     "metadata": {},
     "output_type": "execute_result"
    }
   ],
   "source": [
    "SEO_reader(file_prefix, num_bits)"
   ]
  },
  {
   "cell_type": "code",
   "execution_count": 23,
   "metadata": {},
   "outputs": [],
   "source": [
    "import qubiter.device_specific.chip_couplings_ibm as ibm\n",
    "from qubiter.device_specific.Qubiter_to_IBMqasm import Qubiter_to_IBMqasm\n",
    "\n",
    "file_prefix = 'csd_test'\n",
    "aqasm_name = 'IBMqasm'\n",
    "num_bits = 2\n",
    "c_to_tars = ibm.ibmq5YorktownTenerife_c_to_tars\n",
    "qq = Qubiter_to_IBMqasm(file_prefix, num_bits, aqasm_name=aqasm_name,\n",
    "                   c_to_tars=c_to_tars, write_qubiter_files=True)"
   ]
  },
  {
   "cell_type": "code",
   "execution_count": 24,
   "metadata": {},
   "outputs": [
    {
     "data": {
      "text/plain": [
       "{0: [1, 2], 1: [0, 2], 2: [0, 1, 3, 4], 3: [2, 4], 4: [2, 3]}"
      ]
     },
     "execution_count": 24,
     "metadata": {},
     "output_type": "execute_result"
    }
   ],
   "source": [
    "c_to_tars"
   ]
  },
  {
   "cell_type": "code",
   "execution_count": 25,
   "metadata": {},
   "outputs": [
    {
     "name": "stdout",
     "output_type": "stream",
     "text": [
      "import numpy as np\n",
      "from qiskit import QuantumCircuit\n",
      "from qiskit import ClassicalRegister, QuantumRegister\n",
      "from qiskit import execute\n",
      "\n",
      "\n",
      "q = QuantumRegister(2, 'q')\n",
      "ckt = QuantumCircuit(q)\n",
      "\n",
      "\n"
     ]
    }
   ],
   "source": [
    "dir(qq)\n",
    "qq.print_aqasm_file()"
   ]
  },
  {
   "cell_type": "markdown",
   "metadata": {},
   "source": [
    "In the Picture files, a DIAG\n",
    "appears as a chain of percents, whereas an MP_Y appears as a chain of percents\n",
    "and  an additional Ry gate. As you can\n",
    "see, the Picture file gives a nice picture of the DIAG and MP_Y gates,\n",
    "but the English file is much more specific. Look at Qubiter's Rosetta Stone\n",
    "(qubiter_rosetta_stone.pdf)\n",
    "if you want to understand how to interpret \n",
    "the parameters of DIAG and MP_Y lines.\n",
    "\n",
    "A DIAG represents a diagonal matrix with diagonal entries that\n",
    "are unit magnitude complex numbers, making the matrix unitary.\n",
    "\n",
    "An MP_Y represents a matrix of the form\n",
    "\n",
    "$\\left[\\begin{array}{cc} cc & ss \\\\ -ss & cc \\end{array}\\right]$\n",
    "\n",
    "where $cc$ and $ss$ are real diagonal matrices of the same size \n",
    "such that $cc^2 + ss^2 = 1$."
   ]
  },
  {
   "cell_type": "markdown",
   "metadata": {},
   "source": [
    "The class DiagUnitaryExpander\n",
    "will take any English file and \n",
    "write new English and Picture files wherein \n",
    "\n",
    "* all lines except those starting with DIAG are echoed,\n",
    "* lines starting with DIAG are replaced by an exact or approximate\n",
    "multiline expansion. \n",
    "\n",
    "Likewise, the class MultiplexorExpander\n",
    "will take any English file and \n",
    "write new English and Picture files wherein \n",
    "\n",
    "* all lines except those starting with MP_Y are echoed,\n",
    "* lines starting with MP_Y are replaced by an exact or approximate\n",
    "multiline expansion. \n",
    "\n",
    "We could use these 2 expander\n",
    "classes to construct new English and Picture files from the English \n",
    "file printed above. This would lead to an English file\n",
    "that consisted of only CNOTs and qubit rotations. If the \n",
    "gates of that new English file were multiplied,\n",
    "the product would equal the original $U$. Such an English file would\n",
    "be very long and not too instructive so we won't show it here.\n",
    "Instead, we will show an exact expansion of a single DIAG and \n",
    "of a single MP_Y.\n"
   ]
  },
  {
   "cell_type": "markdown",
   "metadata": {},
   "source": [
    "Next, we create English and Picture files containing\n",
    "an expansion of the 4 qubit gate\n",
    "\n",
    "%---%---%---%\n",
    "\n",
    "This represents a diagonal unitary matrix. The \n",
    "angles are chosen at random and stored in the variable rad_angles.\n",
    "We then print the Picture file."
   ]
  },
  {
   "cell_type": "code",
   "execution_count": 26,
   "metadata": {},
   "outputs": [
    {
     "name": "stdout",
     "output_type": "stream",
     "text": [
      "|   Ph  \n",
      "|   Rz  \n",
      "@---X   \n",
      "|   Rz  \n",
      "@---X   \n",
      "Rz  |   \n",
      "\n"
     ]
    }
   ],
   "source": [
    "file_prefix = \"d_unitary_exact_check\"\n",
    "num_bits = 2\n",
    "num_angles = (1 << num_bits)\n",
    "emb = CktEmbedder(num_bits, num_bits)\n",
    "rad_angles = list(np.random.rand(num_angles)*2*np.pi)\n",
    "# rad_angles = [0, np.pi]\n",
    "wr = DiagUnitarySEO_writer(file_prefix, emb, 'exact', rad_angles)\n",
    "wr.write()\n",
    "wr.close_files()\n",
    "file = './qubiter/io_folder/'+file_prefix + '_2_ZLpic.txt'\n",
    "with open(file) as f:\n",
    "    print(f.read())"
   ]
  },
  {
   "cell_type": "code",
   "execution_count": 27,
   "metadata": {},
   "outputs": [
    {
     "name": "stdout",
     "output_type": "stream",
     "text": [
      "PHAS\t198.34874012706834\tAT\t0\n",
      "ROTZ\t-45.039611276666655\tAT\t0\n",
      "SIGX\tAT\t0\tIF\t1T\n",
      "ROTZ\t8.950385314804713\tAT\t0\n",
      "SIGX\tAT\t0\tIF\t1T\n",
      "ROTZ\t-40.81644584764151\tAT\t1\n",
      "\n"
     ]
    }
   ],
   "source": [
    "file = './qubiter/io_folder/'+file_prefix + '_2_eng.txt'\n",
    "with open(file) as f:\n",
    "    print(f.read())"
   ]
  },
  {
   "cell_type": "code",
   "execution_count": 30,
   "metadata": {},
   "outputs": [
    {
     "data": {
      "text/plain": [
       "<qubiter.CGateSEO_writer.CGateSEO_writer at 0x139e73850>"
      ]
     },
     "execution_count": 30,
     "metadata": {},
     "output_type": "execute_result"
    }
   ],
   "source": []
  },
  {
   "cell_type": "markdown",
   "metadata": {},
   "source": [
    "We can check that our exact expansion is correct\n",
    "as follows. We can multiply the gates of the expansion\n",
    "using the class SEO_MatrixProduct. Call the gate product matpro.prod_arr.\n",
    "Using the angles rad_angles that we stored,\n",
    "we can construct the exact diagonal unitary, call it exact_mat.\n",
    "Call err the norm of matpro.prod_arr - exact_mat,\n",
    "and print err."
   ]
  },
  {
   "cell_type": "code",
   "execution_count": 44,
   "metadata": {},
   "outputs": [],
   "source": [
    "file_prefix = 'csd_test'"
   ]
  },
  {
   "cell_type": "code",
   "execution_count": 58,
   "metadata": {},
   "outputs": [
    {
     "name": "stdout",
     "output_type": "stream",
     "text": [
      "diag unitary error= 1.2008898127460164e-15\n"
     ]
    }
   ],
   "source": [
    "matpro = SEO_MatrixProduct(file_prefix, num_bits)\n",
    "exact_mat = DiagUnitarySEO_writer.du_mat(rad_angles)\n",
    "err = np.linalg.norm(matpro.prod_arr - exact_mat)\n",
    "print(\"diag unitary error=\", err)"
   ]
  },
  {
   "cell_type": "markdown",
   "metadata": {},
   "source": [
    "Next, we create English and Picture files containing\n",
    "an expansion of the 4 qubit gate\n",
    "\n",
    "Ry--%---%---%\n",
    "\n",
    "This represents a multiplexor matrix. The \n",
    "angles are chosen at random and stored in the variable rad_angles.\n",
    "We then print the Picture file."
   ]
  },
  {
   "cell_type": "code",
   "execution_count": 59,
   "metadata": {},
   "outputs": [
    {
     "name": "stdout",
     "output_type": "stream",
     "text": [
      "Ry  |   \n",
      "X---@   \n",
      "Ry  |   \n",
      "X---@   \n",
      "\n"
     ]
    }
   ],
   "source": [
    "file_prefix = \"plexor_exact_check\"\n",
    "num_bits = 2\n",
    "num_angles = (1 << (num_bits-1))\n",
    "emb = CktEmbedder(num_bits, num_bits)\n",
    "rad_angles = list(np.random.rand(num_angles)*2*np.pi)\n",
    "wr = MultiplexorSEO_writer(file_prefix, emb, 'exact', rad_angles)\n",
    "wr.write()\n",
    "wr.close_files()\n",
    "file = './qubiter/io_folder/'+file_prefix + '_2_ZLpic.txt'\n",
    "with open(file) as f:\n",
    "    print(f.read())"
   ]
  },
  {
   "cell_type": "markdown",
   "metadata": {},
   "source": [
    "We can check that our exact expansion is correct\n",
    "as follows. We can multiply the gates of the expansion\n",
    "using the class SEO_MatrixProduct. Call the gate product matpro.prod_arr.\n",
    "Using the angles rad_angles that we stored,\n",
    "we can construct the exact multiplexor matrix, call it exact_mat.\n",
    "Call err the norm of matpro.prod_arr - exact_mat,\n",
    "and print err."
   ]
  },
  {
   "cell_type": "code",
   "execution_count": 60,
   "metadata": {},
   "outputs": [
    {
     "name": "stdout",
     "output_type": "stream",
     "text": [
      "multiplexor error= 1.292349197304123e-15\n"
     ]
    }
   ],
   "source": [
    "matpro = SEO_MatrixProduct(file_prefix, num_bits)\n",
    "exact_mat = MultiplexorSEO_writer.mp_mat(rad_angles)\n",
    "err = np.linalg.norm(matpro.prod_arr - exact_mat)\n",
    "print(\"multiplexor error=\", err)"
   ]
  },
  {
   "cell_type": "code",
   "execution_count": 62,
   "metadata": {},
   "outputs": [
    {
     "ename": "AssertionError",
     "evalue": "ROTX, ROTY or ROTZ not used",
     "output_type": "error",
     "traceback": [
      "\u001b[0;31m---------------------------------------------------------------------------\u001b[0m",
      "\u001b[0;31mAssertionError\u001b[0m                            Traceback (most recent call last)",
      "\u001b[0;32m<ipython-input-62-986e50a99f8f>\u001b[0m in \u001b[0;36m<module>\u001b[0;34m\u001b[0m\n\u001b[0;32m----> 1\u001b[0;31m \u001b[0mSEO_reader\u001b[0m\u001b[0;34m(\u001b[0m\u001b[0mfile_prefix\u001b[0m\u001b[0;34m,\u001b[0m \u001b[0mnum_bits\u001b[0m\u001b[0;34m,\u001b[0m \u001b[0mverbose\u001b[0m\u001b[0;34m=\u001b[0m\u001b[0;32mTrue\u001b[0m\u001b[0;34m)\u001b[0m\u001b[0;34m\u001b[0m\u001b[0;34m\u001b[0m\u001b[0m\n\u001b[0m",
      "\u001b[0;32m~/Dropbox/Turation/fork_qubiter/qubiter/qubiter/SEO_reader.py\u001b[0m in \u001b[0;36m__init__\u001b[0;34m(self, file_prefix, num_bits, vars_manager, verbose, write_log, xfile_num)\u001b[0m\n\u001b[1;32m    119\u001b[0m \u001b[0;34m\u001b[0m\u001b[0m\n\u001b[1;32m    120\u001b[0m         \u001b[0;32mwhile\u001b[0m \u001b[0;32mnot\u001b[0m \u001b[0mself\u001b[0m\u001b[0;34m.\u001b[0m\u001b[0menglish_in\u001b[0m\u001b[0;34m.\u001b[0m\u001b[0mclosed\u001b[0m\u001b[0;34m:\u001b[0m\u001b[0;34m\u001b[0m\u001b[0;34m\u001b[0m\u001b[0m\n\u001b[0;32m--> 121\u001b[0;31m             \u001b[0mself\u001b[0m\u001b[0;34m.\u001b[0m\u001b[0mnext_line\u001b[0m\u001b[0;34m(\u001b[0m\u001b[0;34m)\u001b[0m\u001b[0;34m\u001b[0m\u001b[0;34m\u001b[0m\u001b[0m\n\u001b[0m\u001b[1;32m    122\u001b[0m \u001b[0;34m\u001b[0m\u001b[0m\n\u001b[1;32m    123\u001b[0m         \u001b[0;32mif\u001b[0m \u001b[0mwrite_log\u001b[0m\u001b[0;34m:\u001b[0m\u001b[0;34m\u001b[0m\u001b[0;34m\u001b[0m\u001b[0m\n",
      "\u001b[0;32m~/Dropbox/Turation/fork_qubiter/qubiter/qubiter/SEO_reader.py\u001b[0m in \u001b[0;36mnext_line\u001b[0;34m(self)\u001b[0m\n\u001b[1;32m    433\u001b[0m             \u001b[0mself\u001b[0m\u001b[0;34m.\u001b[0m\u001b[0mread_ROT\u001b[0m\u001b[0;34m(\u001b[0m\u001b[0;36m1\u001b[0m\u001b[0;34m)\u001b[0m\u001b[0;34m\u001b[0m\u001b[0;34m\u001b[0m\u001b[0m\n\u001b[1;32m    434\u001b[0m         \u001b[0;32melif\u001b[0m \u001b[0mline_name\u001b[0m \u001b[0;34m==\u001b[0m \u001b[0;34m\"ROTY\"\u001b[0m\u001b[0;34m:\u001b[0m\u001b[0;34m\u001b[0m\u001b[0;34m\u001b[0m\u001b[0m\n\u001b[0;32m--> 435\u001b[0;31m             \u001b[0mself\u001b[0m\u001b[0;34m.\u001b[0m\u001b[0mread_ROT\u001b[0m\u001b[0;34m(\u001b[0m\u001b[0;36m2\u001b[0m\u001b[0;34m)\u001b[0m\u001b[0;34m\u001b[0m\u001b[0;34m\u001b[0m\u001b[0m\n\u001b[0m\u001b[1;32m    436\u001b[0m         \u001b[0;32melif\u001b[0m \u001b[0mline_name\u001b[0m \u001b[0;34m==\u001b[0m \u001b[0;34m\"ROTZ\"\u001b[0m\u001b[0;34m:\u001b[0m\u001b[0;34m\u001b[0m\u001b[0;34m\u001b[0m\u001b[0m\n\u001b[1;32m    437\u001b[0m             \u001b[0mself\u001b[0m\u001b[0;34m.\u001b[0m\u001b[0mread_ROT\u001b[0m\u001b[0;34m(\u001b[0m\u001b[0;36m3\u001b[0m\u001b[0;34m)\u001b[0m\u001b[0;34m\u001b[0m\u001b[0;34m\u001b[0m\u001b[0m\n",
      "\u001b[0;32m~/Dropbox/Turation/fork_qubiter/qubiter/qubiter/SEO_reader.py\u001b[0m in \u001b[0;36mread_ROT\u001b[0;34m(self, axis)\u001b[0m\n\u001b[1;32m    597\u001b[0m         \u001b[0mtar_bit_pos\u001b[0m \u001b[0;34m=\u001b[0m \u001b[0mint\u001b[0m\u001b[0;34m(\u001b[0m\u001b[0mself\u001b[0m\u001b[0;34m.\u001b[0m\u001b[0msplit_line\u001b[0m\u001b[0;34m[\u001b[0m\u001b[0;36m3\u001b[0m\u001b[0;34m]\u001b[0m\u001b[0;34m)\u001b[0m\u001b[0;34m\u001b[0m\u001b[0;34m\u001b[0m\u001b[0m\n\u001b[1;32m    598\u001b[0m         \u001b[0mcontrols\u001b[0m \u001b[0;34m=\u001b[0m \u001b[0mself\u001b[0m\u001b[0;34m.\u001b[0m\u001b[0mread_TF_controls\u001b[0m\u001b[0;34m(\u001b[0m\u001b[0mself\u001b[0m\u001b[0;34m.\u001b[0m\u001b[0msplit_line\u001b[0m\u001b[0;34m[\u001b[0m\u001b[0;36m5\u001b[0m\u001b[0;34m:\u001b[0m\u001b[0;34m]\u001b[0m\u001b[0;34m)\u001b[0m\u001b[0;34m\u001b[0m\u001b[0;34m\u001b[0m\u001b[0m\n\u001b[0;32m--> 599\u001b[0;31m         \u001b[0mself\u001b[0m\u001b[0;34m.\u001b[0m\u001b[0muse_ROTA\u001b[0m\u001b[0;34m(\u001b[0m\u001b[0maxis\u001b[0m\u001b[0;34m,\u001b[0m \u001b[0mangle_rads\u001b[0m\u001b[0;34m,\u001b[0m \u001b[0mtar_bit_pos\u001b[0m\u001b[0;34m,\u001b[0m \u001b[0mcontrols\u001b[0m\u001b[0;34m)\u001b[0m\u001b[0;34m\u001b[0m\u001b[0;34m\u001b[0m\u001b[0m\n\u001b[0m\u001b[1;32m    600\u001b[0m \u001b[0;34m\u001b[0m\u001b[0m\n\u001b[1;32m    601\u001b[0m     \u001b[0;32mdef\u001b[0m \u001b[0mread_SIG\u001b[0m\u001b[0;34m(\u001b[0m\u001b[0mself\u001b[0m\u001b[0;34m,\u001b[0m \u001b[0maxis\u001b[0m\u001b[0;34m)\u001b[0m\u001b[0;34m:\u001b[0m\u001b[0;34m\u001b[0m\u001b[0;34m\u001b[0m\u001b[0m\n",
      "\u001b[0;32m~/Dropbox/Turation/fork_qubiter/qubiter/qubiter/SEO_reader.py\u001b[0m in \u001b[0;36muse_ROTA\u001b[0;34m(self, axis, angle_rads, tar_bit_pos, controls)\u001b[0m\n\u001b[1;32m    866\u001b[0m         \u001b[0;32mif\u001b[0m \u001b[0mself\u001b[0m\u001b[0;34m.\u001b[0m\u001b[0mwrite_log\u001b[0m\u001b[0;34m:\u001b[0m\u001b[0;34m\u001b[0m\u001b[0;34m\u001b[0m\u001b[0m\n\u001b[1;32m    867\u001b[0m             \u001b[0;32mreturn\u001b[0m\u001b[0;34m\u001b[0m\u001b[0;34m\u001b[0m\u001b[0m\n\u001b[0;32m--> 868\u001b[0;31m         \u001b[0;32massert\u001b[0m \u001b[0;32mFalse\u001b[0m\u001b[0;34m,\u001b[0m \u001b[0;34m'ROTX, ROTY or ROTZ not used'\u001b[0m\u001b[0;34m\u001b[0m\u001b[0;34m\u001b[0m\u001b[0m\n\u001b[0m\u001b[1;32m    869\u001b[0m \u001b[0;34m\u001b[0m\u001b[0m\n\u001b[1;32m    870\u001b[0m     def use_ROTN(self, angle_x_rads, angle_y_rads, angle_z_rads,\n",
      "\u001b[0;31mAssertionError\u001b[0m: ROTX, ROTY or ROTZ not used"
     ]
    }
   ],
   "source": [
    "SEO_reader(file_prefix, num_bits, verbose=True)"
   ]
  },
  {
   "cell_type": "markdown",
   "metadata": {},
   "source": [
    "A moral of the above calculations is that using  CSD\n",
    "quantum compiling blindly will give a SEO for a quantum Fourier Transform QFT that is exponential in the number of qubits $n$. And yet we know that Coppersmith came up with an expansion for the QFT that is polynomial in $n$. But there is hope: CSD is not a unique decomposition.\n",
    "Ref.3 explains how one can coax a CSD compiler to yield Coppersmith's decompostion.\n",
    "\n",
    "Let $U$ be N dimensional, with $N = 2^n$, where $n$ = number of\n",
    "qubits. A general N dimensional unitary matrix has $N^2$ dofs (real\n",
    "degrees of freedom). That's because it has $N^2$ complex entries, so $2N^2$\n",
    "real parameters, but those parameters are subject to N real constraints\n",
    "and N(N-1)/2 complex constraints, for a total of $N^2$ real constraints.\n",
    "So $2N^2$ real parameters minus N^2 real constraints gives $N^2$ dofs.\n",
    "\n",
    "(a) Each DIAG (MP_Y, resp.) line of the CS decomp of $U$\n",
    "depends on N (N/2, resp.) angles and there are about N DIAG and N MP_Y\n",
    "lines. So the DIAG lines alone have enough dofs, $N^2$ of them, to cover\n",
    "all $N^2$ dofs of $U$. So clearly, there is a lot of\n",
    "redundancy in the CS decomp used by Qubiter. But, there is hope: the CS\n",
    "decomp is not unique, and it might be possible to choose a CS decomp\n",
    "that makes zero many of the angles in the DIAG and MP_Y lines. \n",
    "\n",
    "(b) The CS decomp as used here leads to order $N^2 = 2^{2n}$ cnots and\n",
    "qubit rotations so it is impractical for large N. But for small N,\n",
    "it can be useful. For large N, it might be possible to discover\n",
    "approximations to individual MP_Y and DIAG lines.\n",
    "    \n",
    "Clearly, there is much room for future research to improve (a) and (b).\n"
   ]
  }
 ],
 "metadata": {
  "anaconda-cloud": {},
  "celltoolbar": "Raw Cell Format",
  "kernelspec": {
   "display_name": "Python 3",
   "language": "python",
   "name": "python3"
  },
  "language_info": {
   "codemirror_mode": {
    "name": "ipython",
    "version": 3
   },
   "file_extension": ".py",
   "mimetype": "text/x-python",
   "name": "python",
   "nbconvert_exporter": "python",
   "pygments_lexer": "ipython3",
   "version": "3.7.4"
  },
  "nbpresent": {
   "slides": {},
   "themes": {
    "default": "a50a26ea-9250-4d78-a796-a4577cc9eaa1",
    "theme": {
     "a50a26ea-9250-4d78-a796-a4577cc9eaa1": {
      "id": "a50a26ea-9250-4d78-a796-a4577cc9eaa1",
      "palette": {
       "19cc588f-0593-49c9-9f4b-e4d7cc113b1c": {
        "id": "19cc588f-0593-49c9-9f4b-e4d7cc113b1c",
        "rgb": [
         252,
         252,
         252
        ]
       },
       "31af15d2-7e15-44c5-ab5e-e04b16a89eff": {
        "id": "31af15d2-7e15-44c5-ab5e-e04b16a89eff",
        "rgb": [
         68,
         68,
         68
        ]
       },
       "50f92c45-a630-455b-aec3-788680ec7410": {
        "id": "50f92c45-a630-455b-aec3-788680ec7410",
        "rgb": [
         155,
         177,
         192
        ]
       },
       "c5cc3653-2ee1-402a-aba2-7caae1da4f6c": {
        "id": "c5cc3653-2ee1-402a-aba2-7caae1da4f6c",
        "rgb": [
         43,
         126,
         184
        ]
       },
       "efa7f048-9acb-414c-8b04-a26811511a21": {
        "id": "efa7f048-9acb-414c-8b04-a26811511a21",
        "rgb": [
         25.118061674008803,
         73.60176211453744,
         107.4819383259912
        ]
       }
      },
      "rules": {
       "blockquote": {
        "color": "50f92c45-a630-455b-aec3-788680ec7410"
       },
       "code": {
        "font-family": "Anonymous Pro"
       },
       "h1": {
        "color": "c5cc3653-2ee1-402a-aba2-7caae1da4f6c",
        "font-family": "Lato",
        "font-size": 8
       },
       "h2": {
        "color": "c5cc3653-2ee1-402a-aba2-7caae1da4f6c",
        "font-family": "Lato",
        "font-size": 6
       },
       "h3": {
        "color": "50f92c45-a630-455b-aec3-788680ec7410",
        "font-family": "Lato",
        "font-size": 5.5
       },
       "h4": {
        "color": "c5cc3653-2ee1-402a-aba2-7caae1da4f6c",
        "font-family": "Lato",
        "font-size": 5
       },
       "h5": {
        "font-family": "Lato"
       },
       "h6": {
        "font-family": "Lato"
       },
       "h7": {
        "font-family": "Lato"
       },
       "pre": {
        "font-family": "Anonymous Pro",
        "font-size": 4
       }
      },
      "text-base": {
       "font-family": "Merriweather",
       "font-size": 4
      }
     }
    }
   }
  },
  "toc": {
   "colors": {
    "hover_highlight": "#DAA520",
    "running_highlight": "#FF0000",
    "selected_highlight": "#FFD700"
   },
   "moveMenuLeft": true,
   "nav_menu": {
    "height": "30px",
    "width": "252px"
   },
   "navigate_menu": true,
   "number_sections": true,
   "sideBar": true,
   "threshold": 4,
   "toc_cell": false,
   "toc_section_display": "block",
   "toc_window_display": false,
   "widenNotebook": false
  }
 },
 "nbformat": 4,
 "nbformat_minor": 1
}
