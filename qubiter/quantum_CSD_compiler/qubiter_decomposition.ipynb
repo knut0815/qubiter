{
 "cells": [
  {
   "cell_type": "markdown",
   "metadata": {},
   "source": [
    "# Quantum CSD Compiling Intro\n",
    "\n",
    "The purpose of this notebook is to give a quick introduction to Qubiter's \n",
    "CSD quantum compiler capabilities. \n",
    "\n",
    "By a quantum complier, we mean\n",
    "a computer program that takes as input an arbitrary unitary matrix $U$ of dimension $N=2^n$\n",
    "and returns a SEO (sequence of elementary operations, in this case CNOTs and single qubit\n",
    "rotations) that equals $U$. There are various kinds of quantum \n",
    "compilers. Suppose $U$ is of the form $U=e^{-itH}$, where $t$ is time and $H$ is\n",
    "the Hamiltonian operator. If $H$ has a form which is known a priori, a situation\n",
    "that is common in Physics and Chemistry, then a popular way of expanding $U$\n",
    "is by using the Trotter-Suzuki approximation. If the form of $H$ is not\n",
    "known a priori as is common in Artificial Intelligence, then\n",
    "we recommend using the CS (Cosine-Sine) decomposition of Linear Algebra.\n",
    "Both methods are already implemented in Qubiter, but this notebook is about\n",
    "the CSD.\n",
    "\n",
    "Doing CSD quantum compiling with Qubiter requires using the classes in the quantum_CSD_compiler\n",
    "folder, which will only work properly if you install, besides all the Qubiter\n",
    "Python files and a Python distro that includes numpy and scipy (for example, Anaconda),\n",
    "some binary libraries prepared by Artiste-q.net which include\n",
    "a Python wrapper for a LAPACK subroutine\n",
    "called cuncsd.f that performs CSDs. How to install those binary libraries\n",
    "is explained elsewhere in this site. Henceforth, we will assume \n",
    "all the necessary files have been installed on your computer if you want to redo the calculations.\n",
    "\n",
    "The quantum_CSD_compiler folder includes a pdf called csd-intro.pdf that gives\n",
    "an introduction to the CSD. \n",
    "\n",
    "Some external references:\n",
    "\n",
    "\n",
    "1. R.R. Tucci, A Rudimentary Quantum Compiler(2cnd Ed.)\n",
    "    https://arxiv.org/abs/quant-ph/9902062\n",
    "\n",
    "2. Qubiter 1.11, a C++ program whose first version was released together\n",
    "    with Ref.1 above. Qubiter 1.11 is included in the\n",
    "    quantum_CSD_compiler/LEGACY folder of this newer, pythonic version of Qubiter\n",
    "    \n",
    "3. R.R. Tucci, Quantum Fast Fourier Transform Viewed as a Special Case of Recursive Application of Cosine-Sine Decomposition, https://arxiv.org/abs/quant-ph/0411097\n",
    "\n"
   ]
  },
  {
   "cell_type": "markdown",
   "metadata": {},
   "source": [
    "Qubiter applies CSD recursively\n",
    "to build a tree of node matrices. The product of those node matrices,\n",
    "if read in the correct order, is equal to the input matrix $U$.\n",
    "\n",
    "As an example, let us use for $U$ a 3 qubit quantum Fourier matrix.\n",
    "We can create an object of class Tree with $U$ \n",
    "as input as follows"
   ]
  },
  {
   "cell_type": "code",
   "execution_count": 1,
   "metadata": {},
   "outputs": [
    {
     "name": "stdout",
     "output_type": "stream",
     "text": [
      "/Users/yaroslav/Dropbox/Turation/fork_qubiter/qubiter/qubiter/quantum_CSD_compiler\n",
      "/Users/yaroslav/Dropbox/Turation/fork_qubiter/qubiter\n"
     ]
    }
   ],
   "source": [
    "import os\n",
    "import sys\n",
    "print(os.getcwd())\n",
    "os.chdir('../../')\n",
    "print(os.getcwd())\n",
    "sys.path.insert(0,os.getcwd())\n",
    "%load_ext autoreload\n",
    "%autoreload 2"
   ]
  },
  {
   "cell_type": "code",
   "execution_count": 2,
   "metadata": {},
   "outputs": [
    {
     "name": "stdout",
     "output_type": "stream",
     "text": [
      "loaded OneBitGates, WITHOUT autograd.numpy\n"
     ]
    }
   ],
   "source": [
    "import numpy as np\n",
    "import math\n",
    "from scipy.stats import unitary_group\n",
    "\n",
    "# Qubiter libs\n",
    "from qubiter.FouSEO_writer import *\n",
    "from qubiter.CGateSEO_writer import *\n",
    "from qubiter.CGateExpander import *\n",
    "from qubiter.quantum_CSD_compiler.MultiplexorExpander import *\n",
    "from qubiter.quantum_CSD_compiler.Tree import *\n",
    "from qubiter.quantum_CSD_compiler.DiagUnitarySEO_writer import *\n",
    "from qubiter.quantum_CSD_compiler.MultiplexorSEO_writer import *\n",
    "from qubiter.quantum_CSD_compiler.DiagUnitaryExpander import *\n",
    "from qubiter.device_specific.Qubiter_to_AnyQasm import *\n",
    "import pandas as pd"
   ]
  },
  {
   "cell_type": "code",
   "execution_count": 3,
   "metadata": {},
   "outputs": [
    {
     "name": "stderr",
     "output_type": "stream",
     "text": [
      "/usr/local/lib/python3.7/site-packages/pycsd.py:114: ComplexWarning: Casting complex values to real discards the imaginary part\n",
      "  signs=signs)\n"
     ]
    }
   ],
   "source": [
    "num_bits = 2\n",
    "init_unitary_mat = unitary_group.rvs(2**num_bits)\n",
    "emb = CktEmbedder(num_bits, num_bits)\n",
    "file_prefix = \"decomposition_demo\"\n",
    "t = Tree(True, file_prefix, emb, init_unitary_mat, verbose=False)\n",
    "t.close_files()"
   ]
  },
  {
   "cell_type": "markdown",
   "metadata": {},
   "source": [
    "The above code automatically creates an expansion of $U$ \n",
    "into DIAG and MP_Y lines. Next we print the Picture file that was created."
   ]
  },
  {
   "cell_type": "code",
   "execution_count": 4,
   "metadata": {},
   "outputs": [
    {
     "ename": "FileNotFoundError",
     "evalue": "[Errno 2] File b'./qubiter/quantum_CSD_compiler/decomposition_demo_2_ZLpic.txt' does not exist: b'./qubiter/quantum_CSD_compiler/decomposition_demo_2_ZLpic.txt'",
     "output_type": "error",
     "traceback": [
      "\u001b[0;31m---------------------------------------------------------------------------\u001b[0m",
      "\u001b[0;31mFileNotFoundError\u001b[0m                         Traceback (most recent call last)",
      "\u001b[0;32m<ipython-input-4-0de02ff96fb7>\u001b[0m in \u001b[0;36m<module>\u001b[0;34m\u001b[0m\n\u001b[1;32m      1\u001b[0m \u001b[0mfile\u001b[0m \u001b[0;34m=\u001b[0m \u001b[0;34m'./qubiter/quantum_CSD_compiler/'\u001b[0m\u001b[0;34m+\u001b[0m\u001b[0mfile_prefix\u001b[0m \u001b[0;34m+\u001b[0m \u001b[0;34m\"_2_ZLpic.txt\"\u001b[0m\u001b[0;34m\u001b[0m\u001b[0;34m\u001b[0m\u001b[0m\n\u001b[1;32m      2\u001b[0m \u001b[0;31m#file = './qubiter/io_folder/'+file_prefix + \"_2_ZLpic.txt\"\u001b[0m\u001b[0;34m\u001b[0m\u001b[0;34m\u001b[0m\u001b[0;34m\u001b[0m\u001b[0m\n\u001b[0;32m----> 3\u001b[0;31m \u001b[0mdf\u001b[0m \u001b[0;34m=\u001b[0m \u001b[0mpd\u001b[0m\u001b[0;34m.\u001b[0m\u001b[0mread_csv\u001b[0m\u001b[0;34m(\u001b[0m\u001b[0mfile\u001b[0m\u001b[0;34m,\u001b[0m \u001b[0mdelim_whitespace\u001b[0m\u001b[0;34m=\u001b[0m\u001b[0;32mTrue\u001b[0m\u001b[0;34m,\u001b[0m \u001b[0mheader\u001b[0m\u001b[0;34m=\u001b[0m\u001b[0;32mNone\u001b[0m\u001b[0;34m)\u001b[0m\u001b[0;34m\u001b[0m\u001b[0;34m\u001b[0m\u001b[0m\n\u001b[0m",
      "\u001b[0;32m/usr/local/lib/python3.7/site-packages/pandas/io/parsers.py\u001b[0m in \u001b[0;36mparser_f\u001b[0;34m(filepath_or_buffer, sep, delimiter, header, names, index_col, usecols, squeeze, prefix, mangle_dupe_cols, dtype, engine, converters, true_values, false_values, skipinitialspace, skiprows, skipfooter, nrows, na_values, keep_default_na, na_filter, verbose, skip_blank_lines, parse_dates, infer_datetime_format, keep_date_col, date_parser, dayfirst, cache_dates, iterator, chunksize, compression, thousands, decimal, lineterminator, quotechar, quoting, doublequote, escapechar, comment, encoding, dialect, error_bad_lines, warn_bad_lines, delim_whitespace, low_memory, memory_map, float_precision)\u001b[0m\n\u001b[1;32m    683\u001b[0m         )\n\u001b[1;32m    684\u001b[0m \u001b[0;34m\u001b[0m\u001b[0m\n\u001b[0;32m--> 685\u001b[0;31m         \u001b[0;32mreturn\u001b[0m \u001b[0m_read\u001b[0m\u001b[0;34m(\u001b[0m\u001b[0mfilepath_or_buffer\u001b[0m\u001b[0;34m,\u001b[0m \u001b[0mkwds\u001b[0m\u001b[0;34m)\u001b[0m\u001b[0;34m\u001b[0m\u001b[0;34m\u001b[0m\u001b[0m\n\u001b[0m\u001b[1;32m    686\u001b[0m \u001b[0;34m\u001b[0m\u001b[0m\n\u001b[1;32m    687\u001b[0m     \u001b[0mparser_f\u001b[0m\u001b[0;34m.\u001b[0m\u001b[0m__name__\u001b[0m \u001b[0;34m=\u001b[0m \u001b[0mname\u001b[0m\u001b[0;34m\u001b[0m\u001b[0;34m\u001b[0m\u001b[0m\n",
      "\u001b[0;32m/usr/local/lib/python3.7/site-packages/pandas/io/parsers.py\u001b[0m in \u001b[0;36m_read\u001b[0;34m(filepath_or_buffer, kwds)\u001b[0m\n\u001b[1;32m    455\u001b[0m \u001b[0;34m\u001b[0m\u001b[0m\n\u001b[1;32m    456\u001b[0m     \u001b[0;31m# Create the parser.\u001b[0m\u001b[0;34m\u001b[0m\u001b[0;34m\u001b[0m\u001b[0;34m\u001b[0m\u001b[0m\n\u001b[0;32m--> 457\u001b[0;31m     \u001b[0mparser\u001b[0m \u001b[0;34m=\u001b[0m \u001b[0mTextFileReader\u001b[0m\u001b[0;34m(\u001b[0m\u001b[0mfp_or_buf\u001b[0m\u001b[0;34m,\u001b[0m \u001b[0;34m**\u001b[0m\u001b[0mkwds\u001b[0m\u001b[0;34m)\u001b[0m\u001b[0;34m\u001b[0m\u001b[0;34m\u001b[0m\u001b[0m\n\u001b[0m\u001b[1;32m    458\u001b[0m \u001b[0;34m\u001b[0m\u001b[0m\n\u001b[1;32m    459\u001b[0m     \u001b[0;32mif\u001b[0m \u001b[0mchunksize\u001b[0m \u001b[0;32mor\u001b[0m \u001b[0miterator\u001b[0m\u001b[0;34m:\u001b[0m\u001b[0;34m\u001b[0m\u001b[0;34m\u001b[0m\u001b[0m\n",
      "\u001b[0;32m/usr/local/lib/python3.7/site-packages/pandas/io/parsers.py\u001b[0m in \u001b[0;36m__init__\u001b[0;34m(self, f, engine, **kwds)\u001b[0m\n\u001b[1;32m    893\u001b[0m             \u001b[0mself\u001b[0m\u001b[0;34m.\u001b[0m\u001b[0moptions\u001b[0m\u001b[0;34m[\u001b[0m\u001b[0;34m\"has_index_names\"\u001b[0m\u001b[0;34m]\u001b[0m \u001b[0;34m=\u001b[0m \u001b[0mkwds\u001b[0m\u001b[0;34m[\u001b[0m\u001b[0;34m\"has_index_names\"\u001b[0m\u001b[0;34m]\u001b[0m\u001b[0;34m\u001b[0m\u001b[0;34m\u001b[0m\u001b[0m\n\u001b[1;32m    894\u001b[0m \u001b[0;34m\u001b[0m\u001b[0m\n\u001b[0;32m--> 895\u001b[0;31m         \u001b[0mself\u001b[0m\u001b[0;34m.\u001b[0m\u001b[0m_make_engine\u001b[0m\u001b[0;34m(\u001b[0m\u001b[0mself\u001b[0m\u001b[0;34m.\u001b[0m\u001b[0mengine\u001b[0m\u001b[0;34m)\u001b[0m\u001b[0;34m\u001b[0m\u001b[0;34m\u001b[0m\u001b[0m\n\u001b[0m\u001b[1;32m    896\u001b[0m \u001b[0;34m\u001b[0m\u001b[0m\n\u001b[1;32m    897\u001b[0m     \u001b[0;32mdef\u001b[0m \u001b[0mclose\u001b[0m\u001b[0;34m(\u001b[0m\u001b[0mself\u001b[0m\u001b[0;34m)\u001b[0m\u001b[0;34m:\u001b[0m\u001b[0;34m\u001b[0m\u001b[0;34m\u001b[0m\u001b[0m\n",
      "\u001b[0;32m/usr/local/lib/python3.7/site-packages/pandas/io/parsers.py\u001b[0m in \u001b[0;36m_make_engine\u001b[0;34m(self, engine)\u001b[0m\n\u001b[1;32m   1133\u001b[0m     \u001b[0;32mdef\u001b[0m \u001b[0m_make_engine\u001b[0m\u001b[0;34m(\u001b[0m\u001b[0mself\u001b[0m\u001b[0;34m,\u001b[0m \u001b[0mengine\u001b[0m\u001b[0;34m=\u001b[0m\u001b[0;34m\"c\"\u001b[0m\u001b[0;34m)\u001b[0m\u001b[0;34m:\u001b[0m\u001b[0;34m\u001b[0m\u001b[0;34m\u001b[0m\u001b[0m\n\u001b[1;32m   1134\u001b[0m         \u001b[0;32mif\u001b[0m \u001b[0mengine\u001b[0m \u001b[0;34m==\u001b[0m \u001b[0;34m\"c\"\u001b[0m\u001b[0;34m:\u001b[0m\u001b[0;34m\u001b[0m\u001b[0;34m\u001b[0m\u001b[0m\n\u001b[0;32m-> 1135\u001b[0;31m             \u001b[0mself\u001b[0m\u001b[0;34m.\u001b[0m\u001b[0m_engine\u001b[0m \u001b[0;34m=\u001b[0m \u001b[0mCParserWrapper\u001b[0m\u001b[0;34m(\u001b[0m\u001b[0mself\u001b[0m\u001b[0;34m.\u001b[0m\u001b[0mf\u001b[0m\u001b[0;34m,\u001b[0m \u001b[0;34m**\u001b[0m\u001b[0mself\u001b[0m\u001b[0;34m.\u001b[0m\u001b[0moptions\u001b[0m\u001b[0;34m)\u001b[0m\u001b[0;34m\u001b[0m\u001b[0;34m\u001b[0m\u001b[0m\n\u001b[0m\u001b[1;32m   1136\u001b[0m         \u001b[0;32melse\u001b[0m\u001b[0;34m:\u001b[0m\u001b[0;34m\u001b[0m\u001b[0;34m\u001b[0m\u001b[0m\n\u001b[1;32m   1137\u001b[0m             \u001b[0;32mif\u001b[0m \u001b[0mengine\u001b[0m \u001b[0;34m==\u001b[0m \u001b[0;34m\"python\"\u001b[0m\u001b[0;34m:\u001b[0m\u001b[0;34m\u001b[0m\u001b[0;34m\u001b[0m\u001b[0m\n",
      "\u001b[0;32m/usr/local/lib/python3.7/site-packages/pandas/io/parsers.py\u001b[0m in \u001b[0;36m__init__\u001b[0;34m(self, src, **kwds)\u001b[0m\n\u001b[1;32m   1904\u001b[0m         \u001b[0mkwds\u001b[0m\u001b[0;34m[\u001b[0m\u001b[0;34m\"usecols\"\u001b[0m\u001b[0;34m]\u001b[0m \u001b[0;34m=\u001b[0m \u001b[0mself\u001b[0m\u001b[0;34m.\u001b[0m\u001b[0musecols\u001b[0m\u001b[0;34m\u001b[0m\u001b[0;34m\u001b[0m\u001b[0m\n\u001b[1;32m   1905\u001b[0m \u001b[0;34m\u001b[0m\u001b[0m\n\u001b[0;32m-> 1906\u001b[0;31m         \u001b[0mself\u001b[0m\u001b[0;34m.\u001b[0m\u001b[0m_reader\u001b[0m \u001b[0;34m=\u001b[0m \u001b[0mparsers\u001b[0m\u001b[0;34m.\u001b[0m\u001b[0mTextReader\u001b[0m\u001b[0;34m(\u001b[0m\u001b[0msrc\u001b[0m\u001b[0;34m,\u001b[0m \u001b[0;34m**\u001b[0m\u001b[0mkwds\u001b[0m\u001b[0;34m)\u001b[0m\u001b[0;34m\u001b[0m\u001b[0;34m\u001b[0m\u001b[0m\n\u001b[0m\u001b[1;32m   1907\u001b[0m         \u001b[0mself\u001b[0m\u001b[0;34m.\u001b[0m\u001b[0munnamed_cols\u001b[0m \u001b[0;34m=\u001b[0m \u001b[0mself\u001b[0m\u001b[0;34m.\u001b[0m\u001b[0m_reader\u001b[0m\u001b[0;34m.\u001b[0m\u001b[0munnamed_cols\u001b[0m\u001b[0;34m\u001b[0m\u001b[0;34m\u001b[0m\u001b[0m\n\u001b[1;32m   1908\u001b[0m \u001b[0;34m\u001b[0m\u001b[0m\n",
      "\u001b[0;32mpandas/_libs/parsers.pyx\u001b[0m in \u001b[0;36mpandas._libs.parsers.TextReader.__cinit__\u001b[0;34m()\u001b[0m\n",
      "\u001b[0;32mpandas/_libs/parsers.pyx\u001b[0m in \u001b[0;36mpandas._libs.parsers.TextReader._setup_parser_source\u001b[0;34m()\u001b[0m\n",
      "\u001b[0;31mFileNotFoundError\u001b[0m: [Errno 2] File b'./qubiter/quantum_CSD_compiler/decomposition_demo_2_ZLpic.txt' does not exist: b'./qubiter/quantum_CSD_compiler/decomposition_demo_2_ZLpic.txt'"
     ]
    }
   ],
   "source": [
    "file = './qubiter/quantum_CSD_compiler/'+file_prefix + \"_2_ZLpic.txt\"\n",
    "#file = './qubiter/io_folder/'+file_prefix + \"_2_ZLpic.txt\"\n",
    "df = pd.read_csv(file, delim_whitespace=True, header=None)"
   ]
  },
  {
   "cell_type": "code",
   "execution_count": 7,
   "metadata": {},
   "outputs": [],
   "source": [
    "style = 'exact'\n",
    "xer = MultiplexorExpander(file_prefix, num_bits, style, verbose=False)"
   ]
  },
  {
   "cell_type": "code",
   "execution_count": 8,
   "metadata": {},
   "outputs": [],
   "source": [
    "xer = DiagUnitaryExpander(file_prefix+'_X1', num_bits, style)"
   ]
  },
  {
   "cell_type": "code",
   "execution_count": 9,
   "metadata": {},
   "outputs": [],
   "source": [
    "xer = MultiplexorExpander(file_prefix+'_X2', num_bits, style, verbose=False)"
   ]
  },
  {
   "cell_type": "code",
   "execution_count": 10,
   "metadata": {},
   "outputs": [],
   "source": [
    "exp = CGateExpander(file_prefix+'_X3', num_bits)"
   ]
  },
  {
   "cell_type": "code",
   "execution_count": 11,
   "metadata": {},
   "outputs": [
    {
     "name": "stdout",
     "output_type": "stream",
     "text": [
      "|   Ph  \n",
      "\n",
      "|   Rz  \n",
      "\n",
      "@---X   \n",
      "\n",
      "|   Rz  \n",
      "\n",
      "@---X   \n",
      "\n",
      "Rz  |   \n",
      "\n",
      "|   Ry  \n",
      "\n",
      "@---X   \n",
      "\n",
      "|   Ry  \n",
      "\n",
      "@---X   \n",
      "\n",
      "|   Ph  \n",
      "\n",
      "|   Rz  \n",
      "\n",
      "@---X   \n",
      "\n",
      "|   Rz  \n",
      "\n",
      "@---X   \n",
      "\n",
      "Rz  |   \n",
      "\n",
      "Ry  |   \n",
      "\n",
      "X---@   \n",
      "\n",
      "Ry  |   \n",
      "\n",
      "X---@   \n",
      "\n",
      "|   Ph  \n",
      "\n",
      "|   Rz  \n",
      "\n",
      "@---X   \n",
      "\n",
      "|   Rz  \n",
      "\n",
      "@---X   \n",
      "\n",
      "Rz  |   \n",
      "\n",
      "|   Ry  \n",
      "\n",
      "@---X   \n",
      "\n",
      "|   Ry  \n",
      "\n",
      "@---X   \n",
      "\n",
      "|   Ph  \n",
      "\n",
      "|   Rz  \n",
      "\n",
      "@---X   \n",
      "\n",
      "|   Rz  \n",
      "\n",
      "@---X   \n",
      "\n",
      "Rz  |   \n",
      "\n"
     ]
    }
   ],
   "source": [
    "file = './qubiter/io_folder/'+file_prefix + '_X4_2_ZLpic.txt'\n",
    "log = open(file)\n",
    "for line in log:\n",
    "    print(line)"
   ]
  },
  {
   "cell_type": "markdown",
   "metadata": {},
   "source": [
    "Let us also print the corresponding English file that was created."
   ]
  },
  {
   "cell_type": "code",
   "execution_count": 12,
   "metadata": {},
   "outputs": [
    {
     "name": "stdout",
     "output_type": "stream",
     "text": [
      "PHAS\t8.5355975799712\tAT\t0\n",
      "\n",
      "ROTZ\t-8.535597579971194\tAT\t0\n",
      "\n",
      "SIGX\tAT\t0\tIF\t1T\n",
      "\n",
      "ROTZ\t37.420291946158855\tAT\t0\n",
      "\n",
      "SIGX\tAT\t0\tIF\t1T\n",
      "\n",
      "ROTZ\t-37.420291946158855\tAT\t1\n",
      "\n",
      "ROTY\t50.11630947211227\tAT\t0\n",
      "\n",
      "SIGX\tAT\t0\tIF\t1T\n",
      "\n",
      "ROTY\t-12.394409940287632\tAT\t0\n",
      "\n",
      "SIGX\tAT\t0\tIF\t1T\n",
      "\n",
      "PHAS\t71.55955451000345\tAT\t0\n",
      "\n",
      "ROTZ\t-97.3380079875325\tAT\t0\n",
      "\n",
      "SIGX\tAT\t0\tIF\t1T\n",
      "\n",
      "ROTZ\t7.338007987532536\tAT\t0\n",
      "\n",
      "SIGX\tAT\t0\tIF\t1T\n",
      "\n",
      "ROTZ\t18.44044548999655\tAT\t1\n",
      "\n",
      "ROTY\t64.7695371505416\tAT\t1\n",
      "\n",
      "SIGX\tAT\t1\tIF\t0T\n",
      "\n",
      "ROTY\t-23.15185572999302\tAT\t1\n",
      "\n",
      "SIGX\tAT\t1\tIF\t0T\n",
      "\n",
      "PHAS\t-38.431507285971925\tAT\t0\n",
      "\n",
      "ROTZ\t38.43150728597191\tAT\t0\n",
      "\n",
      "SIGX\tAT\t0\tIF\t1T\n",
      "\n",
      "ROTZ\t0.11593413583965821\tAT\t0\n",
      "\n",
      "SIGX\tAT\t0\tIF\t1T\n",
      "\n",
      "ROTZ\t-0.11593413583965821\tAT\t1\n",
      "\n",
      "ROTY\t34.83352273734403\tAT\t0\n",
      "\n",
      "SIGX\tAT\t0\tIF\t1T\n",
      "\n",
      "ROTY\t-12.887639719005357\tAT\t0\n",
      "\n",
      "SIGX\tAT\t0\tIF\t1T\n",
      "\n",
      "PHAS\t48.33635519599729\tAT\t0\n",
      "\n",
      "ROTZ\t23.97644144276522\tAT\t0\n",
      "\n",
      "SIGX\tAT\t0\tIF\t1T\n",
      "\n",
      "ROTZ\t66.54436375197481\tAT\t0\n",
      "\n",
      "SIGX\tAT\t0\tIF\t1T\n",
      "\n",
      "ROTZ\t-56.92432746927767\tAT\t1\n",
      "\n"
     ]
    }
   ],
   "source": [
    "file = './qubiter/io_folder/'+file_prefix + '_X4_2_eng.txt'\n",
    "log = open(file)\n",
    "for line in log:\n",
    "    print(line)"
   ]
  },
  {
   "cell_type": "code",
   "execution_count": 13,
   "metadata": {},
   "outputs": [
    {
     "data": {
      "text/plain": [
       "<qubiter.device_specific.Qubiter_to_IBMqasm.Qubiter_to_IBMqasm at 0x1376d9dd0>"
      ]
     },
     "execution_count": 13,
     "metadata": {},
     "output_type": "execute_result"
    }
   ],
   "source": [
    "import qubiter.device_specific.chip_couplings_ibm as ibm\n",
    "from qubiter.device_specific.Qubiter_to_IBMqasm import Qubiter_to_IBMqasm\n",
    "\n",
    "aqasm_name = 'IBMqasm'\n",
    "c_to_tars = None # ibm.ibmq5YorktownTenerife_c_to_tars\n",
    "Qubiter_to_IBMqasm(file_prefix + '_X4', num_bits, aqasm_name=aqasm_name,\n",
    "                   c_to_tars=c_to_tars, write_qubiter_files=True)"
   ]
  },
  {
   "cell_type": "code",
   "execution_count": null,
   "metadata": {},
   "outputs": [],
   "source": []
  }
 ],
 "metadata": {
  "anaconda-cloud": {},
  "celltoolbar": "Raw Cell Format",
  "kernelspec": {
   "display_name": "Python 3",
   "language": "python",
   "name": "python3"
  },
  "language_info": {
   "codemirror_mode": {
    "name": "ipython",
    "version": 3
   },
   "file_extension": ".py",
   "mimetype": "text/x-python",
   "name": "python",
   "nbconvert_exporter": "python",
   "pygments_lexer": "ipython3",
   "version": "3.7.4"
  },
  "nbpresent": {
   "slides": {},
   "themes": {
    "default": "a50a26ea-9250-4d78-a796-a4577cc9eaa1",
    "theme": {
     "a50a26ea-9250-4d78-a796-a4577cc9eaa1": {
      "id": "a50a26ea-9250-4d78-a796-a4577cc9eaa1",
      "palette": {
       "19cc588f-0593-49c9-9f4b-e4d7cc113b1c": {
        "id": "19cc588f-0593-49c9-9f4b-e4d7cc113b1c",
        "rgb": [
         252,
         252,
         252
        ]
       },
       "31af15d2-7e15-44c5-ab5e-e04b16a89eff": {
        "id": "31af15d2-7e15-44c5-ab5e-e04b16a89eff",
        "rgb": [
         68,
         68,
         68
        ]
       },
       "50f92c45-a630-455b-aec3-788680ec7410": {
        "id": "50f92c45-a630-455b-aec3-788680ec7410",
        "rgb": [
         155,
         177,
         192
        ]
       },
       "c5cc3653-2ee1-402a-aba2-7caae1da4f6c": {
        "id": "c5cc3653-2ee1-402a-aba2-7caae1da4f6c",
        "rgb": [
         43,
         126,
         184
        ]
       },
       "efa7f048-9acb-414c-8b04-a26811511a21": {
        "id": "efa7f048-9acb-414c-8b04-a26811511a21",
        "rgb": [
         25.118061674008803,
         73.60176211453744,
         107.4819383259912
        ]
       }
      },
      "rules": {
       "blockquote": {
        "color": "50f92c45-a630-455b-aec3-788680ec7410"
       },
       "code": {
        "font-family": "Anonymous Pro"
       },
       "h1": {
        "color": "c5cc3653-2ee1-402a-aba2-7caae1da4f6c",
        "font-family": "Lato",
        "font-size": 8
       },
       "h2": {
        "color": "c5cc3653-2ee1-402a-aba2-7caae1da4f6c",
        "font-family": "Lato",
        "font-size": 6
       },
       "h3": {
        "color": "50f92c45-a630-455b-aec3-788680ec7410",
        "font-family": "Lato",
        "font-size": 5.5
       },
       "h4": {
        "color": "c5cc3653-2ee1-402a-aba2-7caae1da4f6c",
        "font-family": "Lato",
        "font-size": 5
       },
       "h5": {
        "font-family": "Lato"
       },
       "h6": {
        "font-family": "Lato"
       },
       "h7": {
        "font-family": "Lato"
       },
       "pre": {
        "font-family": "Anonymous Pro",
        "font-size": 4
       }
      },
      "text-base": {
       "font-family": "Merriweather",
       "font-size": 4
      }
     }
    }
   }
  },
  "toc": {
   "colors": {
    "hover_highlight": "#DAA520",
    "running_highlight": "#FF0000",
    "selected_highlight": "#FFD700"
   },
   "moveMenuLeft": true,
   "nav_menu": {
    "height": "30px",
    "width": "252px"
   },
   "navigate_menu": true,
   "number_sections": true,
   "sideBar": true,
   "threshold": 4,
   "toc_cell": false,
   "toc_section_display": "block",
   "toc_window_display": false,
   "widenNotebook": false
  }
 },
 "nbformat": 4,
 "nbformat_minor": 1
}
